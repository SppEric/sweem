{
 "cells": [
  {
   "cell_type": "code",
   "execution_count": null,
   "metadata": {},
   "outputs": [],
   "source": [
    "import pandas as pd\n",
    "import numpy as np\n",
    "from scipy import stats\n",
    "import scanpy as sc\n",
    "\n",
    "from sklearn.pipeline import make_pipeline\n",
    "from sklearn.preprocessing import StandardScaler, binarize\n",
    "from sklearn.metrics import mean_squared_error, mean_absolute_error, make_scorer\n",
    "from sklearn.model_selection import train_test_split, cross_val_score\n",
    "\n",
    "import seaborn as sns\n",
    "import matplotlib.pyplot as plt\n",
    "\n",
    "from sklearn.ensemble import RandomForestRegressor\n",
    "from sklearn.linear_model import LogisticRegression\n",
    "from sklearn.ensemble import GradientBoostingRegressor\n",
    "from sklearn.linear_model import ElasticNet\n",
    "from sklearn.linear_model import Lasso"
   ]
  },
  {
   "cell_type": "code",
   "execution_count": null,
   "metadata": {},
   "outputs": [],
   "source": [
    "test_data = pd.read_csv('./Data/Multiple/test.csv')\n",
    "print(test_data.shape)\n",
    "\n",
    "train_data = pd.read_csv('./Data/Multiple/train.csv')\n",
    "print(train_data.shape)"
   ]
  },
  {
   "cell_type": "code",
   "execution_count": null,
   "metadata": {},
   "outputs": [],
   "source": [
    "rna_train = train_data.columns[:2708]                       # 2708 rna\n",
    "scna_train = train_data.columns[2708:5404]                  # 2696 scna\n",
    "mutation_train = train_data.columns[5404:5591]              # 187 mutation\n",
    "methy_train = train_data.columns[5591:7957]  "
   ]
  },
  {
   "cell_type": "code",
   "execution_count": null,
   "metadata": {},
   "outputs": [],
   "source": [
    "train_features, val_features, train_labels, val_labels = train_test_split(\n",
    "    train_data.iloc[:, :-3], train_data.iloc[:, -2], test_size=0.2, random_state=42)\n",
    "\n",
    "test_features, test_labels = test_data.iloc[:, :-3], test_data.iloc[:, -2]"
   ]
  },
  {
   "cell_type": "code",
   "execution_count": null,
   "metadata": {},
   "outputs": [],
   "source": [
    "model = RandomForestRegressor()\n",
    "\n",
    "clf = make_pipeline(StandardScaler(), model) \n",
    "\n",
    "clf.fit(train_features, train_labels)\n",
    "\n",
    "y_pred = clf.predict(test_features) \n",
    "\n",
<<<<<<< HEAD
    "def c_index(Prediction, Time_survival, Death, Time):\n",
    "    '''\n",
    "        This is a cause-specific c(t)-index\n",
    "        - Prediction      : risk at Time (higher --> more risky)\n",
    "        - Time_survival   : survival/censoring time\n",
    "        - Death           :\n",
    "            > 1: death\n",
    "            > 0: censored (including death from other cause)\n",
    "        - Time            : time of evaluation (time-horizon when evaluating C-index)\n",
    "    '''\n",
    "    N = len(Prediction)\n",
    "    A = np.zeros((N,N))\n",
    "    Q = np.zeros((N,N))\n",
    "    N_t = np.zeros((N,N))\n",
    "    Num = 0\n",
    "    Den = 0\n",
    "    for i in range(N):\n",
    "        A[i, np.where(Time_survival[i] < Time_survival)] = 1\n",
    "        Q[i, np.where(Prediction[i] > Prediction)] = 1\n",
    "  \n",
    "        if (Time_survival[i]<=Time and Death[i]==1):\n",
    "            N_t[i,:] = 1\n",
    "\n",
    "    Num  = np.sum(((A)*N_t)*Q)\n",
    "    Den  = np.sum((A)*N_t)\n",
    "\n",
    "    if Num == 0 and Den == 0:\n",
    "        result = -1 # not able to compute c-index!\n",
    "    else:\n",
    "        result = float(Num/Den)\n",
    "\n",
    "    return result\n",
    "rmse = mean_squared_error(test_labels, y_pred, squared=False)\n",
    "mae = mean_absolute_error(test_labels, y_pred)\n",
    "print(\"RMSE: \", rmse)\n",
    "print(\"MAE: \", mae)\n",
    "\n",
=======
    "if regression:\n",
    "    rmse = mean_squared_error(test_labels, y_pred, squared=False)\n",
    "    mae = mean_absolute_error(test_labels, y_pred)\n",
    "    print(\"RMSE: \", rmse)\n",
    "    print(\"MAE: \", mae)\n",
    "if classification:\n",
    "    print(roc_auc_score(test_labels, y_pred))\n",
>>>>>>> 1f6a04f (attempting c-index implementation)
    "# Logistic Regression:\n",
    "# RMSE:  1207.3487396633445\n",
    "# MAE:  846.6041666666666\n",
    "\n",
    "# Lasso\n",
    "# RMSE:  1221.1997312374897\n",
    "# MAE:  862.082235831566\n",
    "\n",
    "# ElasticNet\n",
    "# RMSE:  1040.882723328859\n",
    "# MAE:  803.6466015823402\n",
    "\n",
    "# Gradient Boosting\n",
    "# RMSE:  973.7958962915109\n",
    "# MAE:  676.666839893259\n",
    "\n",
    "# Random Forest\n",
    "# RMSE:  874.9631619459758\n",
    "# MAE:  633.3383333333333\n",
    "\n",
    "# Methylation\n",
    "# RMSE:  977.7600004566161\n",
    "# MAE:  702.0275081963855\n",
    "\n",
    "# Gradient Boosting with RNA-seq alone:\n",
    "# RMSE:  987.5226036212255\n",
    "# MAE:  689.2096219224959\n",
    "\n",
    "# Mutation\n",
    "# RMSE:  1133.1793115480632\n",
    "# MAE:  774.4704994851353\n",
    "\n",
    "# SCNA\n",
    "# RMSE:  1047.3549517530034\n",
    "# MAE:  753.5465282620112"
   ]
  },
  {
   "cell_type": "code",
   "execution_count": null,
   "metadata": {},
   "outputs": [],
   "source": [
    "def c_index(Prediction, Time_survival, Death): #, Time\n",
    "    '''\n",
    "        This is a cause-specific c(t)-index\n",
    "        - Prediction      : risk at Time (higher --> more risky)\n",
    "        - Time_survival   : survival/censoring time\n",
    "        - Death           :\n",
    "            > 1: death\n",
    "            > 0: censored (including death from other cause)\n",
    "        - Time            : time of evaluation (time-horizon when evaluating C-index)\n",
    "    '''\n",
    "    N = len(Prediction)\n",
    "    A = np.zeros((N,N))\n",
    "    Q = np.zeros((N,N))\n",
    "    N_t = np.zeros((N,N))\n",
    "    Num = 0\n",
    "    Den = 0\n",
    "    for i in range(N):\n",
    "        A[i, np.where(Time_survival[i] < Time_survival)] = 1\n",
    "        Q[i, np.where(Prediction[i] > Prediction)] = 1\n",
    "  \n",
    "        if Death[i]==1: #(Time_survival[i]<=Time and\n",
    "            N_t[i,:] = 1\n",
    "\n",
    "    Num  = np.sum(((A)*N_t)*Q)\n",
    "    Den  = np.sum((A)*N_t)\n",
    "\n",
    "    if Num == 0 and Den == 0:\n",
    "        result = -1 # not able to compute c-index!\n",
    "    else:\n",
    "        result = float(Num/Den)\n",
    "\n",
    "    return result"
   ]
  },
  {
   "cell_type": "code",
   "execution_count": null,
   "metadata": {},
   "outputs": [],
   "source": [
    "scores = cross_val_score(clf, train_features, train_labels, cv=10, scoring=make_scorer(mean_squared_error))\n",
    "scores = np.sqrt(scores)\n",
    "sem = stats.sem(scores)\n",
    "print(f\"Mean RMSE with 95% CI: {np.mean(scores):.3f} ± {sem * 1.96:.3f}\")"
   ]
  },
  {
   "cell_type": "code",
<<<<<<< HEAD
   "execution_count": null,
   "metadata": {},
   "outputs": [],
=======
   "execution_count": 78,
   "metadata": {},
   "outputs": [
    {
     "name": "stderr",
     "output_type": "stream",
     "text": [
      "/var/folders/ly/v37s6hc13892_26xv925209r0000gn/T/ipykernel_56529/518801643.py:2: MatplotlibDeprecationWarning: The seaborn styles shipped by Matplotlib are deprecated since 3.6, as they no longer correspond to the styles shipped by seaborn. However, they will remain available as 'seaborn-v0_8-<style>'. Alternatively, directly use the seaborn API instead.\n",
      "  plt.style.use(\"seaborn-paper\")\n"
     ]
    },
    {
     "data": {
      "image/png": "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",
      "text/plain": [
       "<Figure size 1400x400 with 1 Axes>"
      ]
     },
     "metadata": {},
     "output_type": "display_data"
    }
   ],
   "source": [
    "plt.figure(figsize=(14, 4))\n",
    "plt.style.use(\"seaborn-paper\")\n",
    "sns.barplot(x=[\"Lasso\", \"Gradient Boosting\", \"Random Forest\"], y=[0.5872235872235871, 0.7137592137592138, 0.6228501228501229],color=\"lightblue\", width=0.3)\n",
    "plt.xlabel('Model')\n",
    "plt.ylabel('AUROC Score')\n",
    "plt.title('Classifier performance across baselines')\n",
    "plt.rcParams['savefig.dpi']=300\n",
    "plt.savefig(\"baselines2.png\")"
   ]
  },
  {
   "cell_type": "code",
   "execution_count": 79,
   "metadata": {},
   "outputs": [
    {
     "name": "stderr",
     "output_type": "stream",
     "text": [
      "/var/folders/ly/v37s6hc13892_26xv925209r0000gn/T/ipykernel_56529/3148870556.py:3: MatplotlibDeprecationWarning: The seaborn styles shipped by Matplotlib are deprecated since 3.6, as they no longer correspond to the styles shipped by seaborn. However, they will remain available as 'seaborn-v0_8-<style>'. Alternatively, directly use the seaborn API instead.\n",
      "  plt.style.use(\"seaborn-paper\")\n"
     ]
    },
    {
     "data": {
      "image/png": "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",
      "text/plain": [
       "<Figure size 1400x400 with 1 Axes>"
      ]
     },
     "metadata": {},
     "output_type": "display_data"
    }
   ],
>>>>>>> 1f6a04f (attempting c-index implementation)
   "source": [
    "# Test out random noise\n",
    "plt.figure(figsize=(14, 4))\n",
    "plt.style.use(\"seaborn-paper\")\n",
    "sns.barplot(x=[\"Lasso\", \"Gradient Boosting\", \"Random Forest\"], y=[1221.1997312374897, 973.7958962915109, 874.9631619459758],color=\"lightblue\", width=0.3)\n",
    "plt.xlabel('Model')\n",
    "plt.ylabel('RMSE')\n",
    "plt.title('Model performance across baselines')\n",
    "plt.rcParams['savefig.dpi']=300\n",
    "plt.savefig(\"baselines.png\")"
   ]
  },
  {
   "cell_type": "code",
   "execution_count": null,
   "metadata": {},
   "outputs": [],
   "source": [
    "from sklearn.metrics import PredictionErrorDisplay\n",
    "display = PredictionErrorDisplay(y_true = test_labels, y_pred=y_pred)\n",
    "display.plot()\n",
    "plt.title(f\"Residuals for {model.__class__.__name__}\")\n",
    "plt.show()"
   ]
  }
 ],
 "metadata": {
  "kernelspec": {
   "display_name": "dl",
   "language": "python",
   "name": "python3"
  },
  "language_info": {
   "codemirror_mode": {
    "name": "ipython",
    "version": 3
   },
   "file_extension": ".py",
   "mimetype": "text/x-python",
   "name": "python",
   "nbconvert_exporter": "python",
   "pygments_lexer": "ipython3",
   "version": "3.11.5"
  }
 },
 "nbformat": 4,
 "nbformat_minor": 2
}
