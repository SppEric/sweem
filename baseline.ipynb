{
 "cells": [
  {
   "cell_type": "code",
   "execution_count": null,
   "metadata": {},
   "outputs": [],
   "source": [
    "import pandas as pd\n",
    "import numpy as np\n",
    "from scipy import stats\n",
    "import scanpy as sc\n",
    "\n",
    "from sklearn.pipeline import make_pipeline\n",
    "from sklearn.preprocessing import StandardScaler, binarize\n",
    "from sklearn.metrics import mean_squared_error, mean_absolute_error, make_scorer\n",
    "from sklearn.model_selection import train_test_split, cross_val_score\n",
    "\n",
    "import seaborn as sns\n",
    "import matplotlib.pyplot as plt\n",
    "\n",
    "from sklearn.ensemble import RandomForestRegressor\n",
    "from sklearn.linear_model import LogisticRegression\n",
    "from sklearn.ensemble import GradientBoostingRegressor\n",
    "from sklearn.linear_model import ElasticNet\n",
    "from sklearn.linear_model import Lasso"
   ]
  },
  {
   "cell_type": "code",
   "execution_count": null,
   "metadata": {},
   "outputs": [],
   "source": [
    "test_data = pd.read_csv('./Data/Multiple/test.csv')\n",
    "print(test_data.shape)\n",
    "\n",
    "train_data = pd.read_csv('./Data/Multiple/train.csv')\n",
    "print(train_data.shape)"
   ]
  },
  {
   "cell_type": "code",
   "execution_count": null,
   "metadata": {},
   "outputs": [],
   "source": [
    "rna_train = train_data.columns[:2708]                       # 2708 rna\n",
    "scna_train = train_data.columns[2708:5404]                  # 2696 scna\n",
    "mutation_train = train_data.columns[5404:5591]              # 187 mutation\n",
    "methy_train = train_data.columns[5591:7957]  "
   ]
  },
  {
   "cell_type": "code",
   "execution_count": null,
   "metadata": {},
   "outputs": [],
   "source": [
    "train_features, val_features, train_labels, val_labels = train_test_split(\n",
    "    train_data.iloc[:, :-3], train_data.iloc[:, -2], test_size=0.2, random_state=42)\n",
    "\n",
    "test_features, test_labels = test_data.iloc[:, :-3], test_data.iloc[:, -2]"
   ]
  },
  {
   "cell_type": "code",
   "execution_count": null,
   "metadata": {},
   "outputs": [],
   "source": [
    "model = RandomForestRegressor()\n",
    "\n",
    "clf = make_pipeline(StandardScaler(), model) \n",
    "\n",
    "clf.fit(train_features, train_labels)\n",
    "\n",
    "y_pred = clf.predict(test_features) \n",
    "\n",
    "def c_index(Prediction, Time_survival, Death, Time):\n",
    "    '''\n",
    "        This is a cause-specific c(t)-index\n",
    "        - Prediction      : risk at Time (higher --> more risky)\n",
    "        - Time_survival   : survival/censoring time\n",
    "        - Death           :\n",
    "            > 1: death\n",
    "            > 0: censored (including death from other cause)\n",
    "        - Time            : time of evaluation (time-horizon when evaluating C-index)\n",
    "    '''\n",
    "    N = len(Prediction)\n",
    "    A = np.zeros((N,N))\n",
    "    Q = np.zeros((N,N))\n",
    "    N_t = np.zeros((N,N))\n",
    "    Num = 0\n",
    "    Den = 0\n",
    "    for i in range(N):\n",
    "        A[i, np.where(Time_survival[i] < Time_survival)] = 1\n",
    "        Q[i, np.where(Prediction[i] > Prediction)] = 1\n",
    "  \n",
    "        if (Time_survival[i]<=Time and Death[i]==1):\n",
    "            N_t[i,:] = 1\n",
    "\n",
    "    Num  = np.sum(((A)*N_t)*Q)\n",
    "    Den  = np.sum((A)*N_t)\n",
    "\n",
    "    if Num == 0 and Den == 0:\n",
    "        result = -1 # not able to compute c-index!\n",
    "    else:\n",
    "        result = float(Num/Den)\n",
    "\n",
    "    return result\n",
    "rmse = mean_squared_error(test_labels, y_pred, squared=False)\n",
    "mae = mean_absolute_error(test_labels, y_pred)\n",
    "print(\"RMSE: \", rmse)\n",
    "print(\"MAE: \", mae)\n",
    "\n",
    "# Logistic Regression:\n",
    "# RMSE:  1207.3487396633445\n",
    "# MAE:  846.6041666666666\n",
    "\n",
    "# Lasso\n",
    "# RMSE:  1221.1997312374897\n",
    "# MAE:  862.082235831566\n",
    "\n",
    "# ElasticNet\n",
    "# RMSE:  1040.882723328859\n",
    "# MAE:  803.6466015823402\n",
    "\n",
    "# Gradient Boosting\n",
    "# RMSE:  973.7958962915109\n",
    "# MAE:  676.666839893259\n",
    "\n",
    "# Random Forest\n",
    "# RMSE:  874.9631619459758\n",
    "# MAE:  633.3383333333333\n",
    "\n",
    "# Methylation\n",
    "# RMSE:  977.7600004566161\n",
    "# MAE:  702.0275081963855\n",
    "\n",
    "# Gradient Boosting with RNA-seq alone:\n",
    "# RMSE:  987.5226036212255\n",
    "# MAE:  689.2096219224959\n",
    "\n",
    "# Mutation\n",
    "# RMSE:  1133.1793115480632\n",
    "# MAE:  774.4704994851353\n",
    "\n",
    "# SCNA\n",
    "# RMSE:  1047.3549517530034\n",
    "# MAE:  753.5465282620112"
   ]
  },
  {
   "cell_type": "code",
   "execution_count": null,
   "metadata": {},
   "outputs": [],
   "source": [
    "scores = cross_val_score(clf, train_features, train_labels, cv=10, scoring=make_scorer(mean_squared_error))\n",
    "scores = np.sqrt(scores)\n",
    "sem = stats.sem(scores)\n",
    "print(f\"Mean RMSE with 95% CI: {np.mean(scores):.3f} ± {sem * 1.96:.3f}\")"
   ]
  },
  {
   "cell_type": "code",
   "execution_count": null,
   "metadata": {},
   "outputs": [],
   "source": [
    "# Test out random noise\n",
    "plt.figure(figsize=(14, 4))\n",
    "sns.barplot(x=[\"Lasso\", \"Gradient Boosting\", \"Random Forest\"], y=[1221.1997312374897, 973.7958962915109, 874.9631619459758],color=\"lightblue\", width=0.3)\n",
    "plt.xlabel('Model')\n",
    "plt.ylabel('RMSE')\n",
    "plt.title('Model performance across baselines')\n",
    "plt.rcParams['savefig.dpi']=300\n",
    "plt.savefig(\"baselines.png\")"
   ]
  },
  {
   "cell_type": "code",
   "execution_count": null,
   "metadata": {},
   "outputs": [],
   "source": [
    "from sklearn.metrics import PredictionErrorDisplay\n",
    "display = PredictionErrorDisplay(y_true = test_labels, y_pred=y_pred)\n",
    "display.plot()\n",
    "plt.title(f\"Residuals for {model.__class__.__name__}\")\n",
    "plt.show()"
   ]
  }
 ],
 "metadata": {
  "kernelspec": {
   "display_name": "dl",
   "language": "python",
   "name": "python3"
  },
  "language_info": {
   "codemirror_mode": {
    "name": "ipython",
    "version": 3
   },
   "file_extension": ".py",
   "mimetype": "text/x-python",
   "name": "python",
   "nbconvert_exporter": "python",
   "pygments_lexer": "ipython3",
   "version": "3.10.8"
  }
 },
 "nbformat": 4,
 "nbformat_minor": 2
}
