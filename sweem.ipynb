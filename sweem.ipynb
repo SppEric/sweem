{
 "cells": [
  {
   "cell_type": "markdown",
   "metadata": {},
   "source": [
    "# SWEEM Model Implementation\n",
    "\n",
    "This file is used to illustrate the preprocessing, training, and evaluation \n",
    "stages of our model. Comments and more information will be provided per section."
   ]
  },
  {
   "cell_type": "markdown",
   "metadata": {},
   "source": [
    "## Preprocessing\n",
    "\n",
    "Here we load in the data and establish our train-test split. We also set up dataloaders\n",
    "for us to be able to properly use the data within our training loop."
   ]
  },
  {
   "cell_type": "code",
   "execution_count": 156,
   "metadata": {},
   "outputs": [
    {
     "name": "stdout",
     "output_type": "stream",
     "text": [
      "The autoreload extension is already loaded. To reload it, use:\n",
      "  %reload_ext autoreload\n",
      "(475, 5543)\n",
      "(380, 5540)\n",
      "(47, 5540)\n",
      "(48, 5540)\n",
      "ZYX_rna\n",
      "A2M_rna\n",
      "Index(['OS_DAYS', 'OS_EVENT'], dtype='object')\n"
     ]
    }
   ],
   "source": [
    "%load_ext autoreload\n",
    "%autoreload 2\n",
    "\n",
    "import pandas as pd\n",
    "from sklearn.model_selection import train_test_split\n",
    "import torch\n",
    "from torch.utils.data import DataLoader, TensorDataset\n",
    "\n",
    "data = pd.read_csv('./Data/OmicsData/data.csv')\n",
    "data = pd.concat([data.iloc[:, :5541], data.iloc[:, -2:]], axis=1)\n",
    "\n",
    "# Split the data into train and validation sets.\n",
    "# Train test validaiton split is 80 10 10\n",
    "train_data, test_data, train_labels, test_labels = train_test_split(\n",
    "    data.iloc[:, 1:-2], data.iloc[:, -2:], test_size=0.2, random_state=42)\n",
    "\n",
    "test_data, validation_data, test_labels, validation_labels = train_test_split(\n",
    "    test_data, test_labels, test_size=0.5, random_state=42)\n",
    "\n",
    "print(data.shape)\n",
    "print(train_data.shape)\n",
    "print(test_data.shape)\n",
    "print(validation_data.shape)\n",
    "\n",
    "# Number of genes in rna: 5540\n",
    "# Number of genes in scna: 5507\n",
    "# Number of genes in methy: 4846\n",
    "# Total number of samples in the final dataset: 475\n",
    "\n",
    "#rna\n",
    "print(train_data.columns[0])\n",
    "print(train_data.columns[5539])\n",
    "# #scna\n",
    "# print(train_data.columns[5540])\n",
    "# print(train_data.columns[11046])\n",
    "# #methy\n",
    "# print(train_data.columns[11047])\n",
    "# print(train_data.columns[15892])\n",
    "\n",
    "#labels\n",
    "print(train_labels.columns)"
   ]
  },
  {
   "cell_type": "code",
   "execution_count": 157,
   "metadata": {},
   "outputs": [],
   "source": [
    "# Create Tensor datasets\n",
    "train_dataset = TensorDataset(torch.tensor(train_data.values), torch.tensor(train_labels.values))\n",
    "val_dataset   = TensorDataset(torch.tensor(validation_data.values), torch.tensor(validation_labels.values))\n",
    "test_dataset  = TensorDataset(torch.tensor(test_data.values), torch.tensor(test_labels.values))\n",
    "\n",
    "# Create DataLoader objects\n",
    "batch_size = 380\n",
    "train_dataloader = DataLoader(train_dataset, batch_size=batch_size, shuffle=True)\n",
    "val_dataloader   = DataLoader(val_dataset,   batch_size=batch_size, shuffle=False)\n",
    "test_dataloader  = DataLoader(test_dataset,  batch_size=batch_size, shuffle=False)"
   ]
  },
  {
   "cell_type": "markdown",
   "metadata": {},
   "source": [
    "## Define Self-Attention Model"
   ]
  },
  {
   "cell_type": "code",
   "execution_count": 159,
   "metadata": {},
   "outputs": [],
   "source": [
    "import torch.optim as optim\n",
    "import torch.nn as nn\n",
    "from tqdm import tqdm\n",
    "\n",
    "class LinearRegression(nn.Module):\n",
    "    def __init__(self, input_size):\n",
    "        super(LinearRegression, self).__init__()\n",
    "        self.linear1 = nn.Linear(input_size, 256)\n",
    "        self.linear2 = nn.Linear(256, 1)\n",
    "        self.linearOut = nn.Linear(2, 1)\n",
    "        self.relu = nn.ReLU()\n",
    "        self.identity = nn.Identity()\n",
    "\n",
    "    def forward(self, x, x2):\n",
    "        out = self.linear1(x)\n",
    "        out = self.relu(out)\n",
    "        out = self.linear2(out)\n",
    "        out = self.relu(out)\n",
    "        out = torch.cat((out, x2), 1)\n",
    "        out = self.linearOut(out)\n",
    "        # out = torch.sigmoid(out)\n",
    "        return out"
   ]
  },
  {
   "cell_type": "markdown",
   "metadata": {},
   "source": [
    "## Train Loop with Alt Dataloader"
   ]
  },
  {
   "cell_type": "code",
   "execution_count": 172,
   "metadata": {},
   "outputs": [
    {
     "name": "stdout",
     "output_type": "stream",
     "text": [
      "Running on cpu\n",
      "Epoch 1 training:\n"
     ]
    },
    {
     "name": "stderr",
     "output_type": "stream",
     "text": [
      "100%|██████████| 1/1 [00:06<00:00,  6.67s/it]\n"
     ]
    },
    {
     "name": "stdout",
     "output_type": "stream",
     "text": [
      "Epoch 1 training loss: 4.920126438140869\n",
      "Epoch 1 validation loss: 3.359114646911621\n",
      "Epoch 2 training:\n"
     ]
    },
    {
     "name": "stderr",
     "output_type": "stream",
     "text": [
      "100%|██████████| 1/1 [00:00<00:00, 29.20it/s]\n"
     ]
    },
    {
     "name": "stdout",
     "output_type": "stream",
     "text": [
      "Epoch 2 training loss: 4.933938503265381\n",
      "Epoch 2 validation loss: 3.3591151237487793\n",
      "Epoch 3 training:\n"
     ]
    },
    {
     "name": "stderr",
     "output_type": "stream",
     "text": [
      "100%|██████████| 1/1 [00:00<00:00, 33.35it/s]\n"
     ]
    },
    {
     "name": "stdout",
     "output_type": "stream",
     "text": [
      "Epoch 3 training loss: 4.949088096618652\n",
      "Epoch 3 validation loss: 3.3591151237487793\n",
      "Epoch 4 training:\n"
     ]
    },
    {
     "name": "stderr",
     "output_type": "stream",
     "text": [
      "100%|██████████| 1/1 [00:00<00:00, 38.59it/s]\n"
     ]
    },
    {
     "name": "stdout",
     "output_type": "stream",
     "text": [
      "Epoch 4 training loss: 4.940771579742432\n",
      "Epoch 4 validation loss: 3.3591151237487793\n",
      "Epoch 5 training:\n"
     ]
    },
    {
     "name": "stderr",
     "output_type": "stream",
     "text": [
      "100%|██████████| 1/1 [00:00<00:00, 41.60it/s]\n"
     ]
    },
    {
     "name": "stdout",
     "output_type": "stream",
     "text": [
      "Epoch 5 training loss: 4.915983200073242\n",
      "Epoch 5 validation loss: 3.3591151237487793\n",
      "Epoch 6 training:\n"
     ]
    },
    {
     "name": "stderr",
     "output_type": "stream",
     "text": [
      "100%|██████████| 1/1 [00:00<00:00, 40.66it/s]\n"
     ]
    },
    {
     "name": "stdout",
     "output_type": "stream",
     "text": [
      "Epoch 6 training loss: 4.951780796051025\n",
      "Epoch 6 validation loss: 3.3591151237487793\n",
      "Epoch 7 training:\n"
     ]
    },
    {
     "name": "stderr",
     "output_type": "stream",
     "text": [
      "100%|██████████| 1/1 [00:00<00:00, 39.45it/s]\n"
     ]
    },
    {
     "name": "stdout",
     "output_type": "stream",
     "text": [
      "Epoch 7 training loss: 4.994030475616455\n",
      "Epoch 7 validation loss: 3.3591151237487793\n",
      "Epoch 8 training:\n"
     ]
    },
    {
     "name": "stderr",
     "output_type": "stream",
     "text": [
      "100%|██████████| 1/1 [00:00<00:00, 37.89it/s]\n"
     ]
    },
    {
     "name": "stdout",
     "output_type": "stream",
     "text": [
      "Epoch 8 training loss: 4.953352928161621\n",
      "Epoch 8 validation loss: 3.3591151237487793\n",
      "Epoch 9 training:\n"
     ]
    },
    {
     "name": "stderr",
     "output_type": "stream",
     "text": [
      "100%|██████████| 1/1 [00:00<00:00, 40.22it/s]\n"
     ]
    },
    {
     "name": "stdout",
     "output_type": "stream",
     "text": [
      "Epoch 9 training loss: 5.0112385749816895\n",
      "Epoch 9 validation loss: 3.3591151237487793\n",
      "Epoch 10 training:\n"
     ]
    },
    {
     "name": "stderr",
     "output_type": "stream",
     "text": [
      "100%|██████████| 1/1 [00:00<00:00, 40.50it/s]\n"
     ]
    },
    {
     "name": "stdout",
     "output_type": "stream",
     "text": [
      "Epoch 10 training loss: 4.948269367218018\n",
      "Epoch 10 validation loss: 3.3591151237487793\n",
      "Epoch 11 training:\n"
     ]
    },
    {
     "name": "stderr",
     "output_type": "stream",
     "text": [
      "100%|██████████| 1/1 [00:00<00:00, 39.35it/s]\n"
     ]
    },
    {
     "name": "stdout",
     "output_type": "stream",
     "text": [
      "Epoch 11 training loss: 4.883542060852051\n",
      "Epoch 11 validation loss: 3.3591151237487793\n",
      "Epoch 12 training:\n"
     ]
    },
    {
     "name": "stderr",
     "output_type": "stream",
     "text": [
      "100%|██████████| 1/1 [00:00<00:00, 40.72it/s]\n"
     ]
    },
    {
     "name": "stdout",
     "output_type": "stream",
     "text": [
      "Epoch 12 training loss: 4.995030879974365\n",
      "Epoch 12 validation loss: 3.3591151237487793\n",
      "Epoch 13 training:\n"
     ]
    },
    {
     "name": "stderr",
     "output_type": "stream",
     "text": [
      "100%|██████████| 1/1 [00:00<00:00, 39.44it/s]\n"
     ]
    },
    {
     "name": "stdout",
     "output_type": "stream",
     "text": [
      "Epoch 13 training loss: 4.875766277313232\n",
      "Epoch 13 validation loss: 3.3591151237487793\n",
      "Epoch 14 training:\n"
     ]
    },
    {
     "name": "stderr",
     "output_type": "stream",
     "text": [
      "100%|██████████| 1/1 [00:00<00:00, 40.03it/s]\n"
     ]
    },
    {
     "name": "stdout",
     "output_type": "stream",
     "text": [
      "Epoch 14 training loss: 5.055960655212402\n",
      "Epoch 14 validation loss: 3.3591151237487793\n",
      "Epoch 15 training:\n"
     ]
    },
    {
     "name": "stderr",
     "output_type": "stream",
     "text": [
      "100%|██████████| 1/1 [00:00<00:00, 41.50it/s]\n"
     ]
    },
    {
     "name": "stdout",
     "output_type": "stream",
     "text": [
      "Epoch 15 training loss: 4.979366779327393\n",
      "Epoch 15 validation loss: 3.3591151237487793\n",
      "Epoch 16 training:\n"
     ]
    },
    {
     "name": "stderr",
     "output_type": "stream",
     "text": [
      "100%|██████████| 1/1 [00:00<00:00, 42.17it/s]\n"
     ]
    },
    {
     "name": "stdout",
     "output_type": "stream",
     "text": [
      "Epoch 16 training loss: 4.950570106506348\n",
      "Epoch 16 validation loss: 3.3591151237487793\n",
      "Epoch 17 training:\n"
     ]
    },
    {
     "name": "stderr",
     "output_type": "stream",
     "text": [
      "100%|██████████| 1/1 [00:00<00:00, 39.10it/s]\n"
     ]
    },
    {
     "name": "stdout",
     "output_type": "stream",
     "text": [
      "Epoch 17 training loss: 5.0021772384643555\n",
      "Epoch 17 validation loss: 3.3591151237487793\n",
      "Epoch 18 training:\n"
     ]
    },
    {
     "name": "stderr",
     "output_type": "stream",
     "text": [
      "100%|██████████| 1/1 [00:00<00:00, 37.28it/s]\n"
     ]
    },
    {
     "name": "stdout",
     "output_type": "stream",
     "text": [
      "Epoch 18 training loss: 4.838803768157959\n",
      "Epoch 18 validation loss: 3.3591151237487793\n",
      "Epoch 19 training:\n"
     ]
    },
    {
     "name": "stderr",
     "output_type": "stream",
     "text": [
      "100%|██████████| 1/1 [00:00<00:00, 34.86it/s]\n"
     ]
    },
    {
     "name": "stdout",
     "output_type": "stream",
     "text": [
      "Epoch 19 training loss: 5.147669792175293\n",
      "Epoch 19 validation loss: 3.3591151237487793\n",
      "Epoch 20 training:\n"
     ]
    },
    {
     "name": "stderr",
     "output_type": "stream",
     "text": [
      "100%|██████████| 1/1 [00:00<00:00, 24.55it/s]\n"
     ]
    },
    {
     "name": "stdout",
     "output_type": "stream",
     "text": [
      "Epoch 20 training loss: 4.973489761352539\n",
      "Epoch 20 validation loss: 3.3591151237487793\n",
      "Epoch 21 training:\n"
     ]
    },
    {
     "name": "stderr",
     "output_type": "stream",
     "text": [
      "100%|██████████| 1/1 [00:00<00:00, 29.07it/s]\n"
     ]
    },
    {
     "name": "stdout",
     "output_type": "stream",
     "text": [
      "Epoch 21 training loss: 4.9539642333984375\n",
      "Epoch 21 validation loss: 3.3591151237487793\n",
      "Epoch 22 training:\n"
     ]
    },
    {
     "name": "stderr",
     "output_type": "stream",
     "text": [
      "100%|██████████| 1/1 [00:00<00:00, 38.55it/s]\n"
     ]
    },
    {
     "name": "stdout",
     "output_type": "stream",
     "text": [
      "Epoch 22 training loss: 4.961251258850098\n",
      "Epoch 22 validation loss: 3.3591151237487793\n",
      "Epoch 23 training:\n"
     ]
    },
    {
     "name": "stderr",
     "output_type": "stream",
     "text": [
      "100%|██████████| 1/1 [00:00<00:00, 40.69it/s]\n"
     ]
    },
    {
     "name": "stdout",
     "output_type": "stream",
     "text": [
      "Epoch 23 training loss: 5.072635173797607\n",
      "Epoch 23 validation loss: 3.3591151237487793\n",
      "Epoch 24 training:\n"
     ]
    },
    {
     "name": "stderr",
     "output_type": "stream",
     "text": [
      "100%|██████████| 1/1 [00:00<00:00, 41.23it/s]\n"
     ]
    },
    {
     "name": "stdout",
     "output_type": "stream",
     "text": [
      "Epoch 24 training loss: 5.056114196777344\n",
      "Epoch 24 validation loss: 3.3591151237487793\n",
      "Epoch 25 training:\n"
     ]
    },
    {
     "name": "stderr",
     "output_type": "stream",
     "text": [
      "100%|██████████| 1/1 [00:00<00:00, 42.29it/s]\n"
     ]
    },
    {
     "name": "stdout",
     "output_type": "stream",
     "text": [
      "Epoch 25 training loss: 5.067052364349365\n",
      "Epoch 25 validation loss: 3.3591151237487793\n",
      "Epoch 26 training:\n"
     ]
    },
    {
     "name": "stderr",
     "output_type": "stream",
     "text": [
      "100%|██████████| 1/1 [00:00<00:00, 41.73it/s]\n"
     ]
    },
    {
     "name": "stdout",
     "output_type": "stream",
     "text": [
      "Epoch 26 training loss: 5.052810192108154\n",
      "Epoch 26 validation loss: 3.3591151237487793\n",
      "Epoch 27 training:\n"
     ]
    },
    {
     "name": "stderr",
     "output_type": "stream",
     "text": [
      "100%|██████████| 1/1 [00:00<00:00, 41.58it/s]\n"
     ]
    },
    {
     "name": "stdout",
     "output_type": "stream",
     "text": [
      "Epoch 27 training loss: 4.979764938354492\n",
      "Epoch 27 validation loss: 3.3591151237487793\n",
      "Epoch 28 training:\n"
     ]
    },
    {
     "name": "stderr",
     "output_type": "stream",
     "text": [
      "100%|██████████| 1/1 [00:00<00:00, 42.07it/s]\n"
     ]
    },
    {
     "name": "stdout",
     "output_type": "stream",
     "text": [
      "Epoch 28 training loss: 4.893612384796143\n",
      "Epoch 28 validation loss: 3.3591151237487793\n",
      "Epoch 29 training:\n"
     ]
    },
    {
     "name": "stderr",
     "output_type": "stream",
     "text": [
      "100%|██████████| 1/1 [00:00<00:00, 42.95it/s]\n"
     ]
    },
    {
     "name": "stdout",
     "output_type": "stream",
     "text": [
      "Epoch 29 training loss: 4.827571392059326\n",
      "Epoch 29 validation loss: 3.3591151237487793\n",
      "Epoch 30 training:\n"
     ]
    },
    {
     "name": "stderr",
     "output_type": "stream",
     "text": [
      "100%|██████████| 1/1 [00:00<00:00, 43.46it/s]\n"
     ]
    },
    {
     "name": "stdout",
     "output_type": "stream",
     "text": [
      "Epoch 30 training loss: 4.93640661239624\n",
      "Epoch 30 validation loss: 3.3591151237487793\n",
      "Epoch 31 training:\n"
     ]
    },
    {
     "name": "stderr",
     "output_type": "stream",
     "text": [
      "100%|██████████| 1/1 [00:00<00:00, 40.82it/s]\n"
     ]
    },
    {
     "name": "stdout",
     "output_type": "stream",
     "text": [
      "Epoch 31 training loss: 4.974845886230469\n",
      "Epoch 31 validation loss: 3.3591151237487793\n",
      "Epoch 32 training:\n"
     ]
    },
    {
     "name": "stderr",
     "output_type": "stream",
     "text": [
      "100%|██████████| 1/1 [00:00<00:00, 42.63it/s]\n"
     ]
    },
    {
     "name": "stdout",
     "output_type": "stream",
     "text": [
      "Epoch 32 training loss: 4.917346000671387\n",
      "Epoch 32 validation loss: 3.3591151237487793\n",
      "Epoch 33 training:\n"
     ]
    },
    {
     "name": "stderr",
     "output_type": "stream",
     "text": [
      "100%|██████████| 1/1 [00:00<00:00, 40.87it/s]\n"
     ]
    },
    {
     "name": "stdout",
     "output_type": "stream",
     "text": [
      "Epoch 33 training loss: 4.956727981567383\n",
      "Epoch 33 validation loss: 3.3591151237487793\n",
      "Epoch 34 training:\n"
     ]
    },
    {
     "name": "stderr",
     "output_type": "stream",
     "text": [
      "100%|██████████| 1/1 [00:00<00:00, 41.26it/s]\n"
     ]
    },
    {
     "name": "stdout",
     "output_type": "stream",
     "text": [
      "Epoch 34 training loss: 4.774108409881592\n",
      "Epoch 34 validation loss: 3.3591151237487793\n",
      "Epoch 35 training:\n"
     ]
    },
    {
     "name": "stderr",
     "output_type": "stream",
     "text": [
      "100%|██████████| 1/1 [00:00<00:00, 38.53it/s]\n"
     ]
    },
    {
     "name": "stdout",
     "output_type": "stream",
     "text": [
      "Epoch 35 training loss: 5.012545585632324\n",
      "Epoch 35 validation loss: 3.3591151237487793\n",
      "Epoch 36 training:\n"
     ]
    },
    {
     "name": "stderr",
     "output_type": "stream",
     "text": [
      "100%|██████████| 1/1 [00:00<00:00, 37.08it/s]\n"
     ]
    },
    {
     "name": "stdout",
     "output_type": "stream",
     "text": [
      "Epoch 36 training loss: 4.890004634857178\n",
      "Epoch 36 validation loss: 3.3591151237487793\n",
      "Epoch 37 training:\n"
     ]
    },
    {
     "name": "stderr",
     "output_type": "stream",
     "text": [
      "100%|██████████| 1/1 [00:00<00:00, 35.51it/s]\n"
     ]
    },
    {
     "name": "stdout",
     "output_type": "stream",
     "text": [
      "Epoch 37 training loss: 4.958044528961182\n",
      "Epoch 37 validation loss: 3.3591151237487793\n",
      "Epoch 38 training:\n"
     ]
    },
    {
     "name": "stderr",
     "output_type": "stream",
     "text": [
      "100%|██████████| 1/1 [00:00<00:00, 36.46it/s]\n"
     ]
    },
    {
     "name": "stdout",
     "output_type": "stream",
     "text": [
      "Epoch 38 training loss: 5.106845378875732\n",
      "Epoch 38 validation loss: 3.3591151237487793\n",
      "Epoch 39 training:\n"
     ]
    },
    {
     "name": "stderr",
     "output_type": "stream",
     "text": [
      "100%|██████████| 1/1 [00:00<00:00, 37.81it/s]\n"
     ]
    },
    {
     "name": "stdout",
     "output_type": "stream",
     "text": [
      "Epoch 39 training loss: 4.907041072845459\n",
      "Epoch 39 validation loss: 3.3591151237487793\n",
      "Epoch 40 training:\n"
     ]
    },
    {
     "name": "stderr",
     "output_type": "stream",
     "text": [
      "100%|██████████| 1/1 [00:00<00:00, 36.98it/s]\n"
     ]
    },
    {
     "name": "stdout",
     "output_type": "stream",
     "text": [
      "Epoch 40 training loss: 4.830103397369385\n",
      "Epoch 40 validation loss: 3.3591151237487793\n",
      "Epoch 41 training:\n"
     ]
    },
    {
     "name": "stderr",
     "output_type": "stream",
     "text": [
      "100%|██████████| 1/1 [00:00<00:00, 36.44it/s]\n"
     ]
    },
    {
     "name": "stdout",
     "output_type": "stream",
     "text": [
      "Epoch 41 training loss: 4.83859920501709\n",
      "Epoch 41 validation loss: 3.3591151237487793\n",
      "Epoch 42 training:\n"
     ]
    },
    {
     "name": "stderr",
     "output_type": "stream",
     "text": [
      "100%|██████████| 1/1 [00:00<00:00, 37.50it/s]\n"
     ]
    },
    {
     "name": "stdout",
     "output_type": "stream",
     "text": [
      "Epoch 42 training loss: 4.986613750457764\n",
      "Epoch 42 validation loss: 3.3591151237487793\n",
      "Epoch 43 training:\n"
     ]
    },
    {
     "name": "stderr",
     "output_type": "stream",
     "text": [
      "100%|██████████| 1/1 [00:00<00:00, 36.75it/s]\n"
     ]
    },
    {
     "name": "stdout",
     "output_type": "stream",
     "text": [
      "Epoch 43 training loss: 4.766414642333984\n",
      "Epoch 43 validation loss: 3.3591151237487793\n",
      "Epoch 44 training:\n"
     ]
    },
    {
     "name": "stderr",
     "output_type": "stream",
     "text": [
      "100%|██████████| 1/1 [00:00<00:00, 38.95it/s]\n"
     ]
    },
    {
     "name": "stdout",
     "output_type": "stream",
     "text": [
      "Epoch 44 training loss: 4.950599670410156\n",
      "Epoch 44 validation loss: 3.3591151237487793\n",
      "Epoch 45 training:\n"
     ]
    },
    {
     "name": "stderr",
     "output_type": "stream",
     "text": [
      "100%|██████████| 1/1 [00:00<00:00, 36.50it/s]\n"
     ]
    },
    {
     "name": "stdout",
     "output_type": "stream",
     "text": [
      "Epoch 45 training loss: 4.901646137237549\n",
      "Epoch 45 validation loss: 3.3591151237487793\n",
      "Epoch 46 training:\n"
     ]
    },
    {
     "name": "stderr",
     "output_type": "stream",
     "text": [
      "100%|██████████| 1/1 [00:00<00:00, 38.38it/s]\n"
     ]
    },
    {
     "name": "stdout",
     "output_type": "stream",
     "text": [
      "Epoch 46 training loss: 4.875185489654541\n",
      "Epoch 46 validation loss: 3.3591151237487793\n",
      "Epoch 47 training:\n"
     ]
    },
    {
     "name": "stderr",
     "output_type": "stream",
     "text": [
      "100%|██████████| 1/1 [00:00<00:00, 26.74it/s]\n"
     ]
    },
    {
     "name": "stdout",
     "output_type": "stream",
     "text": [
      "Epoch 47 training loss: 4.9830522537231445\n",
      "Epoch 47 validation loss: 3.3591151237487793\n",
      "Epoch 48 training:\n"
     ]
    },
    {
     "name": "stderr",
     "output_type": "stream",
     "text": [
      "100%|██████████| 1/1 [00:00<00:00, 37.86it/s]\n"
     ]
    },
    {
     "name": "stdout",
     "output_type": "stream",
     "text": [
      "Epoch 48 training loss: 5.0894455909729\n",
      "Epoch 48 validation loss: 3.3591151237487793\n",
      "Epoch 49 training:\n"
     ]
    },
    {
     "name": "stderr",
     "output_type": "stream",
     "text": [
      "100%|██████████| 1/1 [00:00<00:00, 36.95it/s]\n"
     ]
    },
    {
     "name": "stdout",
     "output_type": "stream",
     "text": [
      "Epoch 49 training loss: 4.9651875495910645\n",
      "Epoch 49 validation loss: 3.3591151237487793\n",
      "Epoch 50 training:\n"
     ]
    },
    {
     "name": "stderr",
     "output_type": "stream",
     "text": [
      "100%|██████████| 1/1 [00:00<00:00, 33.33it/s]\n"
     ]
    },
    {
     "name": "stdout",
     "output_type": "stream",
     "text": [
      "Epoch 50 training loss: 5.0098795890808105\n",
      "Epoch 50 validation loss: 3.3591151237487793\n"
     ]
    }
   ],
   "source": [
    "### Training Loop\n",
    "from model import SelfAttentionModel\n",
    "from loss import temp_loss, neg_par_log_likelihood\n",
    "num_epochs = 50\n",
    "epoch_train_losses = []\n",
    "epoch_val_losses   = []\n",
    "\n",
    "# model = LinearRegression(5540)\n",
    "model = SelfAttentionModel(5540, 1024, 32)\n",
    "device = torch.device(\"cuda:0\" if torch.cuda.is_available() else \"cpu\")\n",
    "print(\"Running on\", device)\n",
    "model.to(device)\n",
    "\n",
    "criterion = neg_par_log_likelihood\n",
    "optimizer = optim.Adam(model.parameters(), lr=0.01)\n",
    "\n",
    "for epoch in range(num_epochs):\n",
    "    epoch_train_loss = 0\n",
    "    epoch_val_loss   = 0\n",
    "    print(f\"Epoch {epoch + 1} training:\")\n",
    "    progress_bar = tqdm(range(len(train_dataloader)))\n",
    "\n",
    "    ## Training\n",
    "    model.train()\n",
    "    for (batchX, batchY) in train_dataloader:   \n",
    "        batchX = batchX.to(torch.float32).to(device)\n",
    "        time = batchY[:,0].to(torch.float32).to(device).reshape(-1, 1)\n",
    "        event = batchY[:,1].to(torch.float32).to(device).reshape(-1, 1)\n",
    "        # print(\"batchX\", batchX[:, :5])\n",
    "        # print(\"time\", time)\n",
    "        # print(\"event\", event)\n",
    "        \n",
    "        outputs = model(batchX, event)\n",
    "        # print(\"predictions\", outputs)\n",
    "        \n",
    "        # print(outputs.shape, time.shape, event.shape)\n",
    "        loss = criterion(outputs, time, event)\n",
    "        loss.backward()\n",
    "        \n",
    "        optimizer.step()\n",
    "        optimizer.zero_grad()\n",
    "        \n",
    "        epoch_train_loss += loss.item()\n",
    "        progress_bar.update(1)\n",
    "    \n",
    "    ## Validation\n",
    "    model.eval()\n",
    "    with torch.no_grad():\n",
    "        for (batchX, batchY) in val_dataloader:\n",
    "            batchX = batchX.to(torch.float32).to(device)\n",
    "            time = batchY[:,0].to(torch.float32).to(device).reshape(-1, 1)\n",
    "            event = batchY[:,1].to(torch.float32).to(device).reshape(-1, 1)\n",
    "            outputs = model(batchX, event)\n",
    "            loss = criterion(outputs, time, event)\n",
    "            epoch_val_loss += loss.item()\n",
    "\n",
    "    # Save and print losses\n",
    "    epoch_train_loss /= len(train_dataloader)\n",
    "    epoch_val_loss /= len(val_dataloader)\n",
    "    epoch_train_losses.append(epoch_train_loss)\n",
    "    epoch_val_losses.append(epoch_val_loss)\n",
    "    print(f\"Epoch {epoch + 1} training loss: {epoch_train_loss}\")\n",
    "    print(f\"Epoch {epoch + 1} validation loss: {epoch_val_loss}\")"
   ]
  },
  {
   "cell_type": "code",
   "execution_count": null,
   "metadata": {},
   "outputs": [],
   "source": [
    "### Sanity Checking Outputs\n",
    "\n",
    "# Check the outputs of the model on the test set\n",
    "model.eval()\n",
    "sample_number = 5\n",
    "for test_images, test_labels in test_dataloader: \n",
    "    outputs = model(test_images.to(device).to(torch.float32))\n",
    "    print(\"Intended Output: \", test_labels)\n",
    "    print(\"Actual Output: \", outputs)\n",
    "    break"
   ]
  },
  {
   "cell_type": "markdown",
   "metadata": {},
   "source": []
  }
 ],
 "metadata": {
  "kernelspec": {
   "display_name": "csci1470",
   "language": "python",
   "name": "python3"
  },
  "language_info": {
   "codemirror_mode": {
    "name": "ipython",
    "version": 3
   },
   "file_extension": ".py",
   "mimetype": "text/x-python",
   "name": "python",
   "nbconvert_exporter": "python",
   "pygments_lexer": "ipython3",
   "version": "3.11.5"
  }
 },
 "nbformat": 4,
 "nbformat_minor": 2
}
