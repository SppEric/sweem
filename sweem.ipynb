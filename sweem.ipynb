{
 "cells": [
  {
   "cell_type": "markdown",
   "metadata": {},
   "source": [
    "# SWEEM Model Implementation\n",
    "\n",
    "This file is used to illustrate the preprocessing, training, and evaluation \n",
    "stages of our model. Comments and more information will be provided per section."
   ]
  },
  {
   "cell_type": "markdown",
   "metadata": {},
   "source": [
    "## Preprocessing\n",
    "\n",
    "Here we load in the data and establish our train-test split. We also set up dataloaders\n",
    "for us to be able to properly use the data within our training loop."
   ]
  },
  {
   "cell_type": "code",
   "execution_count": 1,
   "metadata": {},
   "outputs": [
    {
     "name": "stdout",
     "output_type": "stream",
     "text": [
      "Running on cpu\n"
     ]
    }
   ],
   "source": [
    "%load_ext autoreload\n",
    "%autoreload 2\n",
    "\n",
    "import pandas as pd\n",
    "from sklearn.model_selection import train_test_split\n",
    "import torch\n",
    "import torch.nn as nn\n",
    "import torch.optim as optim\n",
    "from torch.utils.data import DataLoader, TensorDataset\n",
    "from tqdm import tqdm\n",
    "import checkpoint\n",
    "\n",
    "device = torch.device(\"cuda:0\" if torch.cuda.is_available() else \"cpu\")\n",
    "print(\"Running on\", device)"
   ]
  },
  {
   "cell_type": "code",
   "execution_count": 2,
   "metadata": {},
   "outputs": [
    {
     "name": "stdout",
     "output_type": "stream",
     "text": [
      "ZYX_rna\n",
      "A2M_rna\n",
      "ZYX_scna\n",
      "A2M_scna\n",
      "ZYX_methy\n",
      "A2M_methy\n",
      "Index(['OS_DAYS', 'OS_EVENT'], dtype='object')\n",
      "batch size:  16\n"
     ]
    }
   ],
   "source": [
    "data = pd.read_csv('./Data/OmicsData/data.csv')\n",
    "# data = pd.concat([data.iloc[:, :5541], data.iloc[:, -2:]], axis=1)\n",
    "\n",
    "# Separate to make sure that there's an even distribution of 1s and 0s in train and test\n",
    "data_ones = data[data.iloc[:, -1] == 1]\n",
    "data_zeros = data[data.iloc[:, -1] == 0]\n",
    "\n",
    "# Split the data into train and validation sets.\n",
    "# Train test split is 80 20\n",
    "train_data_ones, test_data_ones, train_labels_ones, test_labels_ones = train_test_split(\n",
    "    data_ones.iloc[:, 1:-2], data_ones.iloc[:, -2:], test_size=0.2, random_state=42)\n",
    "train_data_zeros, test_data_zeros, train_labels_zeros, test_labels_zeros = train_test_split(\n",
    "    data_zeros.iloc[:, 1:-2], data_zeros.iloc[:, -2:], test_size=0.2, random_state=42)\n",
    "\n",
    "# Concatenate in the end to make train and test\n",
    "train_data = pd.concat((train_data_ones, train_data_zeros))\n",
    "train_labels = pd.concat((train_labels_ones, train_labels_zeros))\n",
    "test_data = pd.concat((test_data_ones, test_data_zeros)) \n",
    "test_labels = pd.concat((test_labels_ones, test_labels_zeros))\n",
    "\n",
    "# 352 0's\n",
    "# 123 1's\n",
    "\n",
    "# Number of genes in rna: 5540\n",
    "# Number of genes in scna: 5507\n",
    "# Number of genes in methy: 4846\n",
    "# Total number of genes: 15893\n",
    "# Total number of samples in the final dataset: 475\n",
    "\n",
    "#rna\n",
    "print(train_data.columns[0])\n",
    "print(train_data.columns[5539])\n",
    "#scna\n",
    "print(train_data.columns[5540])\n",
    "print(train_data.columns[11046])\n",
    "#methy\n",
    "print(train_data.columns[11047])\n",
    "print(train_data.columns[15892])\n",
    "\n",
    "#labels\n",
    "print(train_labels.columns)\n",
    "\n",
    "# Create Tensor datasets\n",
    "train_dataset = TensorDataset(torch.tensor(train_data.values, dtype=torch.float32), torch.tensor(train_labels.values, dtype=torch.float32))\n",
    "#val_dataset   = TensorDataset(torch.tensor(validation_data.values, dtype=torch.float32), torch.tensor(validation_labels.values, dtype=torch.float32))\n",
    "test_dataset  = TensorDataset(torch.tensor(test_data.values, dtype=torch.float32), torch.tensor(test_labels.values, dtype=torch.float32))\n",
    "\n",
    "# Create DataLoader objects\n",
    "batch_size = 16\n",
    "train_dataloader = DataLoader(train_dataset, batch_size=batch_size, shuffle=True)\n",
    "#val_dataloader   = DataLoader(val_dataset,   batch_size=batch_size, shuffle=False)\n",
    "test_dataloader  = DataLoader(test_dataset,  batch_size=batch_size, shuffle=True)\n",
    "\n",
    "print(\"batch size: \", batch_size)"
   ]
  },
  {
   "cell_type": "markdown",
   "metadata": {},
   "source": [
    "## Train Loop"
   ]
  },
  {
   "cell_type": "code",
   "execution_count": 3,
   "metadata": {},
   "outputs": [],
   "source": [
    "settings = {\n",
    "    \"model\": {\n",
    "        \"rna_dim\": 5540,\n",
    "        \"scna_dim\": 5507,\n",
    "        \"methy_dim\": 4846,\n",
    "        \"use_rna\": True,\n",
    "        \"use_scna\": True,\n",
    "        \"use_methy\": False,\n",
    "        \"hidden_dim\": 64,\n",
    "        \"self_att\": True,\n",
    "        \"cross_att\": False,\n",
    "        \"device\": device\n",
    "    },\n",
    "    \"train\": {\n",
    "        \"lr\": 0.0001,\n",
    "        \"l2\": 1e-5,\n",
    "        \"epochs\": 1,\n",
    "        \"epoch_mod\": 10\n",
    "    }\n",
    "}"
   ]
  },
  {
   "cell_type": "code",
   "execution_count": 4,
   "metadata": {},
   "outputs": [
    {
     "name": "stdout",
     "output_type": "stream",
     "text": [
      "Epoch 1 training loss: 1.1514864626030128\n",
      "Epoch 1 validation loss: 0.6521338274081548\n"
     ]
    }
   ],
   "source": [
    "### Training Loop\n",
    "from model import SWEEM\n",
    "from loss import temp_loss, neg_par_log_likelihood\n",
    "\n",
    "epoch_train_losses = []\n",
    "epoch_val_losses   = []\n",
    "\n",
    "model = SWEEM(**settings[\"model\"])\n",
    "model.to(device)\n",
    "\n",
    "# criterion = temp_loss\n",
    "# binary cross entropy loss\n",
    "criterion = nn.BCELoss()\n",
    "optimizer = optim.Adam(model.parameters(), lr=settings[\"train\"][\"lr\"], weight_decay=settings[\"train\"][\"l2\"])\n",
    "\n",
    "for epoch in range(settings[\"train\"][\"epochs\"]):\n",
    "    epoch_train_loss = 0\n",
    "    epoch_val_loss   = 0\n",
    "    \n",
    "    ## Training\n",
    "    # print(f\"Epoch {epoch + 1} training:\")\n",
    "    # progress_bar = tqdm(range(len(train_dataloader)))\n",
    "\n",
    "    model.train()\n",
    "    for i, (batchX, batchY) in enumerate(train_dataloader):        \n",
    "        batchX = batchX.to(device)\n",
    "        rna = batchX[:, :5540]\n",
    "        scna = batchX[:, 5540:11047]\n",
    "        methy = batchX[:, 11047:]\n",
    "        time = batchY[:,0].reshape(-1, 1).to(device)\n",
    "        event = batchY[:,1].reshape(-1, 1).to(device)\n",
    "\n",
    "        outputs = model(event, rna=rna, scna=scna, methy=methy)\n",
    "        \n",
    "        # loss = criterion(outputs, time, event)\n",
    "        loss = criterion(outputs, event)\n",
    "        # print(f\"batch {i+1} loss: \", loss)\n",
    "        loss.backward()\n",
    "        \n",
    "        optimizer.step()\n",
    "        optimizer.zero_grad()\n",
    "        \n",
    "        epoch_train_loss += loss.item()\n",
    "        # progress_bar.update(1)\n",
    "        \n",
    "    ## Validation\n",
    "    # print(f\"Epoch {epoch + 1} validation:\")\n",
    "    # progress_bar = tqdm(range(len(test_dataloader)))\n",
    "    \n",
    "    model.eval()\n",
    "    with torch.no_grad():\n",
    "        for i, (batchX, batchY) in enumerate(test_dataloader):\n",
    "            batchX = batchX.to(device)\n",
    "            rna = batchX[:, :5540]\n",
    "            scna = batchX[:, 5540:11047]\n",
    "            methy = batchX[:, 11047:]\n",
    "            time = batchY[:,0].reshape(-1, 1).to(device)\n",
    "            event = batchY[:,1].reshape(-1, 1).to(device)\n",
    "            outputs = model(event, rna=rna, scna=scna, methy=methy)\n",
    "\n",
    "            #outputs = model(rna, scna, methy, event)\n",
    "            # loss = criterion(outputs, time, event)\n",
    "            loss = criterion(outputs, event)\n",
    "            epoch_val_loss += loss.item()\n",
    "            # progress_bar.update(1)\n",
    "\n",
    "    # Save and print losses\n",
    "    epoch_train_loss /= len(train_dataloader)\n",
    "    epoch_val_loss /= len(test_dataloader)\n",
    "    epoch_train_losses.append(epoch_train_loss)\n",
    "    epoch_val_losses.append(epoch_val_loss)\n",
    "    if epoch % settings[\"train\"][\"epoch_mod\"] == 0:\n",
    "        print(f\"Epoch {epoch + 1} training loss: {epoch_train_loss}\")\n",
    "        print(f\"Epoch {epoch + 1} validation loss: {epoch_val_loss}\")"
   ]
  },
  {
   "cell_type": "code",
   "execution_count": null,
   "metadata": {},
   "outputs": [
    {
     "name": "stdout",
     "output_type": "stream",
     "text": [
      "Sanity Check:\n",
      "time, event, predicted\n",
      "[1568.0, 0.0, 0.12833349406719208]\n",
      "[491.0, 0.0, 0.6987324953079224]\n",
      "[775.0, 1.0, 0.8945903778076172]\n",
      "[1120.0, 0.0, 0.07794535160064697]\n",
      "[286.0, 0.0, 0.0980154275894165]\n",
      "[544.0, 0.0, 0.18362724781036377]\n",
      "[563.0, 0.0, 0.3240216076374054]\n",
      "[1173.0, 0.0, 0.049856361001729965]\n",
      "[604.0, 0.0, 0.7710764408111572]\n",
      "[512.0, 0.0, 0.1294112354516983]\n",
      "[992.0, 0.0, 0.09207335114479065]\n",
      "[503.0, 0.0, 0.02540099434554577]\n",
      "[347.0, 1.0, 0.9731836915016174]\n",
      "[964.0, 0.0, 0.032907597720623016]\n",
      "[442.0, 0.0, 0.9876447319984436]\n",
      "[2287.0, 0.0, 0.07676078379154205]\n"
     ]
    }
   ],
   "source": [
    "### Sanity Check\n",
    "model.eval()\n",
    "with torch.no_grad():\n",
    "    for (batchX, batchY) in test_dataloader:\n",
    "        batchX = batchX.to(device)\n",
    "        rna = batchX[:, :5540].to(device)\n",
    "        scna = batchX[:, 5540:11047].to(device)\n",
    "        methy = batchX[:, 11047:].to(device)\n",
    "        time = batchY[:,0].reshape(-1, 1).to(device)\n",
    "        event = batchY[:,1].reshape(-1, 1).to(device)\n",
    "        outputs = model(event, rna=rna, scna=scna, methy=methy)\n",
    "        \n",
    "        # concat torch tensors\n",
    "        table = torch.cat((time, event, outputs), 1)\n",
    "        \n",
    "        # print row by row\n",
    "        print(\"Sanity Check:\")\n",
    "        print(\"time, event, predicted\")\n",
    "        for row in table:\n",
    "            print(row.tolist())\n",
    "        break"
   ]
  },
  {
   "cell_type": "code",
   "execution_count": null,
   "metadata": {},
   "outputs": [],
   "source": [
    "checkpoint.save(\"./sweem.model\", model, optimizer, epoch_train_losses, epoch_val_losses, settings)\n",
    "\n",
    "model, optimizer, epoch_train_losses, epoch_val_losses, settings = checkpoint.load(\"./sweem.model\", SWEEM, optim.Adam)"
   ]
  },
  {
   "cell_type": "code",
   "execution_count": null,
   "metadata": {},
   "outputs": [
    {
     "ename": "RuntimeError",
     "evalue": "Expected all tensors to be on the same device, but found at least two devices, cpu and cuda:0! (when checking argument for argument mat1 in method wrapper_CUDA_addmm)",
     "output_type": "error",
     "traceback": [
      "\u001b[1;31m---------------------------------------------------------------------------\u001b[0m",
      "\u001b[1;31mRuntimeError\u001b[0m                              Traceback (most recent call last)",
      "Cell \u001b[1;32mIn[8], line 11\u001b[0m\n\u001b[0;32m      9\u001b[0m time \u001b[38;5;241m=\u001b[39m batchY[:,\u001b[38;5;241m0\u001b[39m]\u001b[38;5;241m.\u001b[39mreshape(\u001b[38;5;241m-\u001b[39m\u001b[38;5;241m1\u001b[39m, \u001b[38;5;241m1\u001b[39m)\u001b[38;5;241m.\u001b[39mto(device)\n\u001b[0;32m     10\u001b[0m event \u001b[38;5;241m=\u001b[39m batchY[:,\u001b[38;5;241m1\u001b[39m]\u001b[38;5;241m.\u001b[39mreshape(\u001b[38;5;241m-\u001b[39m\u001b[38;5;241m1\u001b[39m, \u001b[38;5;241m1\u001b[39m)\u001b[38;5;241m.\u001b[39mto(device)\n\u001b[1;32m---> 11\u001b[0m outputs \u001b[38;5;241m=\u001b[39m \u001b[43mmodel\u001b[49m\u001b[43m(\u001b[49m\u001b[43mevent\u001b[49m\u001b[43m,\u001b[49m\u001b[43m \u001b[49m\u001b[43mrna\u001b[49m\u001b[38;5;241;43m=\u001b[39;49m\u001b[43mrna\u001b[49m\u001b[43m,\u001b[49m\u001b[43m \u001b[49m\u001b[43mscna\u001b[49m\u001b[38;5;241;43m=\u001b[39;49m\u001b[43mscna\u001b[49m\u001b[43m,\u001b[49m\u001b[43m \u001b[49m\u001b[43mmethy\u001b[49m\u001b[38;5;241;43m=\u001b[39;49m\u001b[43mmethy\u001b[49m\u001b[43m)\u001b[49m\n\u001b[0;32m     13\u001b[0m \u001b[38;5;66;03m# concat torch tensors\u001b[39;00m\n\u001b[0;32m     14\u001b[0m table \u001b[38;5;241m=\u001b[39m torch\u001b[38;5;241m.\u001b[39mcat((time, event, outputs), \u001b[38;5;241m1\u001b[39m)\n",
      "File \u001b[1;32mc:\\Users\\ericj\\miniconda3\\envs\\sweem\\Lib\\site-packages\\torch\\nn\\modules\\module.py:1518\u001b[0m, in \u001b[0;36mModule._wrapped_call_impl\u001b[1;34m(self, *args, **kwargs)\u001b[0m\n\u001b[0;32m   1516\u001b[0m     \u001b[38;5;28;01mreturn\u001b[39;00m \u001b[38;5;28mself\u001b[39m\u001b[38;5;241m.\u001b[39m_compiled_call_impl(\u001b[38;5;241m*\u001b[39margs, \u001b[38;5;241m*\u001b[39m\u001b[38;5;241m*\u001b[39mkwargs)  \u001b[38;5;66;03m# type: ignore[misc]\u001b[39;00m\n\u001b[0;32m   1517\u001b[0m \u001b[38;5;28;01melse\u001b[39;00m:\n\u001b[1;32m-> 1518\u001b[0m     \u001b[38;5;28;01mreturn\u001b[39;00m \u001b[38;5;28;43mself\u001b[39;49m\u001b[38;5;241;43m.\u001b[39;49m\u001b[43m_call_impl\u001b[49m\u001b[43m(\u001b[49m\u001b[38;5;241;43m*\u001b[39;49m\u001b[43margs\u001b[49m\u001b[43m,\u001b[49m\u001b[43m \u001b[49m\u001b[38;5;241;43m*\u001b[39;49m\u001b[38;5;241;43m*\u001b[39;49m\u001b[43mkwargs\u001b[49m\u001b[43m)\u001b[49m\n",
      "File \u001b[1;32mc:\\Users\\ericj\\miniconda3\\envs\\sweem\\Lib\\site-packages\\torch\\nn\\modules\\module.py:1527\u001b[0m, in \u001b[0;36mModule._call_impl\u001b[1;34m(self, *args, **kwargs)\u001b[0m\n\u001b[0;32m   1522\u001b[0m \u001b[38;5;66;03m# If we don't have any hooks, we want to skip the rest of the logic in\u001b[39;00m\n\u001b[0;32m   1523\u001b[0m \u001b[38;5;66;03m# this function, and just call forward.\u001b[39;00m\n\u001b[0;32m   1524\u001b[0m \u001b[38;5;28;01mif\u001b[39;00m \u001b[38;5;129;01mnot\u001b[39;00m (\u001b[38;5;28mself\u001b[39m\u001b[38;5;241m.\u001b[39m_backward_hooks \u001b[38;5;129;01mor\u001b[39;00m \u001b[38;5;28mself\u001b[39m\u001b[38;5;241m.\u001b[39m_backward_pre_hooks \u001b[38;5;129;01mor\u001b[39;00m \u001b[38;5;28mself\u001b[39m\u001b[38;5;241m.\u001b[39m_forward_hooks \u001b[38;5;129;01mor\u001b[39;00m \u001b[38;5;28mself\u001b[39m\u001b[38;5;241m.\u001b[39m_forward_pre_hooks\n\u001b[0;32m   1525\u001b[0m         \u001b[38;5;129;01mor\u001b[39;00m _global_backward_pre_hooks \u001b[38;5;129;01mor\u001b[39;00m _global_backward_hooks\n\u001b[0;32m   1526\u001b[0m         \u001b[38;5;129;01mor\u001b[39;00m _global_forward_hooks \u001b[38;5;129;01mor\u001b[39;00m _global_forward_pre_hooks):\n\u001b[1;32m-> 1527\u001b[0m     \u001b[38;5;28;01mreturn\u001b[39;00m \u001b[43mforward_call\u001b[49m\u001b[43m(\u001b[49m\u001b[38;5;241;43m*\u001b[39;49m\u001b[43margs\u001b[49m\u001b[43m,\u001b[49m\u001b[43m \u001b[49m\u001b[38;5;241;43m*\u001b[39;49m\u001b[38;5;241;43m*\u001b[39;49m\u001b[43mkwargs\u001b[49m\u001b[43m)\u001b[49m\n\u001b[0;32m   1529\u001b[0m \u001b[38;5;28;01mtry\u001b[39;00m:\n\u001b[0;32m   1530\u001b[0m     result \u001b[38;5;241m=\u001b[39m \u001b[38;5;28;01mNone\u001b[39;00m\n",
      "File \u001b[1;32mc:\\Users\\ericj\\browncs\\sweem\\model.py:84\u001b[0m, in \u001b[0;36mSWEEM.forward\u001b[1;34m(self, event, **kwargs)\u001b[0m\n\u001b[0;32m     82\u001b[0m \u001b[38;5;28;01mif\u001b[39;00m \u001b[38;5;28mself\u001b[39m\u001b[38;5;241m.\u001b[39mself_att:\n\u001b[0;32m     83\u001b[0m     \u001b[38;5;28;01mif\u001b[39;00m \u001b[38;5;28mself\u001b[39m\u001b[38;5;241m.\u001b[39muse_rna:\n\u001b[1;32m---> 84\u001b[0m         rna \u001b[38;5;241m=\u001b[39m \u001b[38;5;28;43mself\u001b[39;49m\u001b[38;5;241;43m.\u001b[39;49m\u001b[43mrna_att\u001b[49m\u001b[43m(\u001b[49m\u001b[43mrna\u001b[49m\u001b[43m)\u001b[49m\n\u001b[0;32m     85\u001b[0m         rna \u001b[38;5;241m=\u001b[39m torch\u001b[38;5;241m.\u001b[39mnn\u001b[38;5;241m.\u001b[39mDropout(p\u001b[38;5;241m=\u001b[39m\u001b[38;5;241m0.5\u001b[39m)(rna)\n\u001b[0;32m     86\u001b[0m         cat \u001b[38;5;241m=\u001b[39m torch\u001b[38;5;241m.\u001b[39mcat((cat, rna), dim\u001b[38;5;241m=\u001b[39m\u001b[38;5;241m1\u001b[39m)\n",
      "File \u001b[1;32mc:\\Users\\ericj\\miniconda3\\envs\\sweem\\Lib\\site-packages\\torch\\nn\\modules\\module.py:1518\u001b[0m, in \u001b[0;36mModule._wrapped_call_impl\u001b[1;34m(self, *args, **kwargs)\u001b[0m\n\u001b[0;32m   1516\u001b[0m     \u001b[38;5;28;01mreturn\u001b[39;00m \u001b[38;5;28mself\u001b[39m\u001b[38;5;241m.\u001b[39m_compiled_call_impl(\u001b[38;5;241m*\u001b[39margs, \u001b[38;5;241m*\u001b[39m\u001b[38;5;241m*\u001b[39mkwargs)  \u001b[38;5;66;03m# type: ignore[misc]\u001b[39;00m\n\u001b[0;32m   1517\u001b[0m \u001b[38;5;28;01melse\u001b[39;00m:\n\u001b[1;32m-> 1518\u001b[0m     \u001b[38;5;28;01mreturn\u001b[39;00m \u001b[38;5;28;43mself\u001b[39;49m\u001b[38;5;241;43m.\u001b[39;49m\u001b[43m_call_impl\u001b[49m\u001b[43m(\u001b[49m\u001b[38;5;241;43m*\u001b[39;49m\u001b[43margs\u001b[49m\u001b[43m,\u001b[49m\u001b[43m \u001b[49m\u001b[38;5;241;43m*\u001b[39;49m\u001b[38;5;241;43m*\u001b[39;49m\u001b[43mkwargs\u001b[49m\u001b[43m)\u001b[49m\n",
      "File \u001b[1;32mc:\\Users\\ericj\\miniconda3\\envs\\sweem\\Lib\\site-packages\\torch\\nn\\modules\\module.py:1527\u001b[0m, in \u001b[0;36mModule._call_impl\u001b[1;34m(self, *args, **kwargs)\u001b[0m\n\u001b[0;32m   1522\u001b[0m \u001b[38;5;66;03m# If we don't have any hooks, we want to skip the rest of the logic in\u001b[39;00m\n\u001b[0;32m   1523\u001b[0m \u001b[38;5;66;03m# this function, and just call forward.\u001b[39;00m\n\u001b[0;32m   1524\u001b[0m \u001b[38;5;28;01mif\u001b[39;00m \u001b[38;5;129;01mnot\u001b[39;00m (\u001b[38;5;28mself\u001b[39m\u001b[38;5;241m.\u001b[39m_backward_hooks \u001b[38;5;129;01mor\u001b[39;00m \u001b[38;5;28mself\u001b[39m\u001b[38;5;241m.\u001b[39m_backward_pre_hooks \u001b[38;5;129;01mor\u001b[39;00m \u001b[38;5;28mself\u001b[39m\u001b[38;5;241m.\u001b[39m_forward_hooks \u001b[38;5;129;01mor\u001b[39;00m \u001b[38;5;28mself\u001b[39m\u001b[38;5;241m.\u001b[39m_forward_pre_hooks\n\u001b[0;32m   1525\u001b[0m         \u001b[38;5;129;01mor\u001b[39;00m _global_backward_pre_hooks \u001b[38;5;129;01mor\u001b[39;00m _global_backward_hooks\n\u001b[0;32m   1526\u001b[0m         \u001b[38;5;129;01mor\u001b[39;00m _global_forward_hooks \u001b[38;5;129;01mor\u001b[39;00m _global_forward_pre_hooks):\n\u001b[1;32m-> 1527\u001b[0m     \u001b[38;5;28;01mreturn\u001b[39;00m \u001b[43mforward_call\u001b[49m\u001b[43m(\u001b[49m\u001b[38;5;241;43m*\u001b[39;49m\u001b[43margs\u001b[49m\u001b[43m,\u001b[49m\u001b[43m \u001b[49m\u001b[38;5;241;43m*\u001b[39;49m\u001b[38;5;241;43m*\u001b[39;49m\u001b[43mkwargs\u001b[49m\u001b[43m)\u001b[49m\n\u001b[0;32m   1529\u001b[0m \u001b[38;5;28;01mtry\u001b[39;00m:\n\u001b[0;32m   1530\u001b[0m     result \u001b[38;5;241m=\u001b[39m \u001b[38;5;28;01mNone\u001b[39;00m\n",
      "File \u001b[1;32mc:\\Users\\ericj\\browncs\\sweem\\model.py:16\u001b[0m, in \u001b[0;36mSelfAttResNet.forward\u001b[1;34m(self, x)\u001b[0m\n\u001b[0;32m     15\u001b[0m \u001b[38;5;28;01mdef\u001b[39;00m \u001b[38;5;21mforward\u001b[39m(\u001b[38;5;28mself\u001b[39m, x):\n\u001b[1;32m---> 16\u001b[0m     queries \u001b[38;5;241m=\u001b[39m \u001b[38;5;28;43mself\u001b[39;49m\u001b[38;5;241;43m.\u001b[39;49m\u001b[43mquery\u001b[49m\u001b[43m(\u001b[49m\u001b[43mx\u001b[49m\u001b[43m)\u001b[49m\n\u001b[0;32m     17\u001b[0m     keys \u001b[38;5;241m=\u001b[39m \u001b[38;5;28mself\u001b[39m\u001b[38;5;241m.\u001b[39mkey(x)\n\u001b[0;32m     18\u001b[0m     values \u001b[38;5;241m=\u001b[39m \u001b[38;5;28mself\u001b[39m\u001b[38;5;241m.\u001b[39mvalue(x)\n",
      "File \u001b[1;32mc:\\Users\\ericj\\miniconda3\\envs\\sweem\\Lib\\site-packages\\torch\\nn\\modules\\module.py:1518\u001b[0m, in \u001b[0;36mModule._wrapped_call_impl\u001b[1;34m(self, *args, **kwargs)\u001b[0m\n\u001b[0;32m   1516\u001b[0m     \u001b[38;5;28;01mreturn\u001b[39;00m \u001b[38;5;28mself\u001b[39m\u001b[38;5;241m.\u001b[39m_compiled_call_impl(\u001b[38;5;241m*\u001b[39margs, \u001b[38;5;241m*\u001b[39m\u001b[38;5;241m*\u001b[39mkwargs)  \u001b[38;5;66;03m# type: ignore[misc]\u001b[39;00m\n\u001b[0;32m   1517\u001b[0m \u001b[38;5;28;01melse\u001b[39;00m:\n\u001b[1;32m-> 1518\u001b[0m     \u001b[38;5;28;01mreturn\u001b[39;00m \u001b[38;5;28;43mself\u001b[39;49m\u001b[38;5;241;43m.\u001b[39;49m\u001b[43m_call_impl\u001b[49m\u001b[43m(\u001b[49m\u001b[38;5;241;43m*\u001b[39;49m\u001b[43margs\u001b[49m\u001b[43m,\u001b[49m\u001b[43m \u001b[49m\u001b[38;5;241;43m*\u001b[39;49m\u001b[38;5;241;43m*\u001b[39;49m\u001b[43mkwargs\u001b[49m\u001b[43m)\u001b[49m\n",
      "File \u001b[1;32mc:\\Users\\ericj\\miniconda3\\envs\\sweem\\Lib\\site-packages\\torch\\nn\\modules\\module.py:1527\u001b[0m, in \u001b[0;36mModule._call_impl\u001b[1;34m(self, *args, **kwargs)\u001b[0m\n\u001b[0;32m   1522\u001b[0m \u001b[38;5;66;03m# If we don't have any hooks, we want to skip the rest of the logic in\u001b[39;00m\n\u001b[0;32m   1523\u001b[0m \u001b[38;5;66;03m# this function, and just call forward.\u001b[39;00m\n\u001b[0;32m   1524\u001b[0m \u001b[38;5;28;01mif\u001b[39;00m \u001b[38;5;129;01mnot\u001b[39;00m (\u001b[38;5;28mself\u001b[39m\u001b[38;5;241m.\u001b[39m_backward_hooks \u001b[38;5;129;01mor\u001b[39;00m \u001b[38;5;28mself\u001b[39m\u001b[38;5;241m.\u001b[39m_backward_pre_hooks \u001b[38;5;129;01mor\u001b[39;00m \u001b[38;5;28mself\u001b[39m\u001b[38;5;241m.\u001b[39m_forward_hooks \u001b[38;5;129;01mor\u001b[39;00m \u001b[38;5;28mself\u001b[39m\u001b[38;5;241m.\u001b[39m_forward_pre_hooks\n\u001b[0;32m   1525\u001b[0m         \u001b[38;5;129;01mor\u001b[39;00m _global_backward_pre_hooks \u001b[38;5;129;01mor\u001b[39;00m _global_backward_hooks\n\u001b[0;32m   1526\u001b[0m         \u001b[38;5;129;01mor\u001b[39;00m _global_forward_hooks \u001b[38;5;129;01mor\u001b[39;00m _global_forward_pre_hooks):\n\u001b[1;32m-> 1527\u001b[0m     \u001b[38;5;28;01mreturn\u001b[39;00m \u001b[43mforward_call\u001b[49m\u001b[43m(\u001b[49m\u001b[38;5;241;43m*\u001b[39;49m\u001b[43margs\u001b[49m\u001b[43m,\u001b[49m\u001b[43m \u001b[49m\u001b[38;5;241;43m*\u001b[39;49m\u001b[38;5;241;43m*\u001b[39;49m\u001b[43mkwargs\u001b[49m\u001b[43m)\u001b[49m\n\u001b[0;32m   1529\u001b[0m \u001b[38;5;28;01mtry\u001b[39;00m:\n\u001b[0;32m   1530\u001b[0m     result \u001b[38;5;241m=\u001b[39m \u001b[38;5;28;01mNone\u001b[39;00m\n",
      "File \u001b[1;32mc:\\Users\\ericj\\miniconda3\\envs\\sweem\\Lib\\site-packages\\torch\\nn\\modules\\linear.py:114\u001b[0m, in \u001b[0;36mLinear.forward\u001b[1;34m(self, input)\u001b[0m\n\u001b[0;32m    113\u001b[0m \u001b[38;5;28;01mdef\u001b[39;00m \u001b[38;5;21mforward\u001b[39m(\u001b[38;5;28mself\u001b[39m, \u001b[38;5;28minput\u001b[39m: Tensor) \u001b[38;5;241m-\u001b[39m\u001b[38;5;241m>\u001b[39m Tensor:\n\u001b[1;32m--> 114\u001b[0m     \u001b[38;5;28;01mreturn\u001b[39;00m \u001b[43mF\u001b[49m\u001b[38;5;241;43m.\u001b[39;49m\u001b[43mlinear\u001b[49m\u001b[43m(\u001b[49m\u001b[38;5;28;43minput\u001b[39;49m\u001b[43m,\u001b[49m\u001b[43m \u001b[49m\u001b[38;5;28;43mself\u001b[39;49m\u001b[38;5;241;43m.\u001b[39;49m\u001b[43mweight\u001b[49m\u001b[43m,\u001b[49m\u001b[43m \u001b[49m\u001b[38;5;28;43mself\u001b[39;49m\u001b[38;5;241;43m.\u001b[39;49m\u001b[43mbias\u001b[49m\u001b[43m)\u001b[49m\n",
      "\u001b[1;31mRuntimeError\u001b[0m: Expected all tensors to be on the same device, but found at least two devices, cpu and cuda:0! (when checking argument for argument mat1 in method wrapper_CUDA_addmm)"
     ]
    }
   ],
   "source": [
    "### Sanity Check\n",
    "model.eval()\n",
    "with torch.no_grad():\n",
    "    for (batchX, batchY) in test_dataloader:\n",
    "        batchX = batchX.to(device)\n",
    "        rna = batchX[:, :5540]\n",
    "        scna = batchX[:, 5540:11047]\n",
    "        methy = batchX[:, 11047:]\n",
    "        time = batchY[:,0].reshape(-1, 1).to(device)\n",
    "        event = batchY[:,1].reshape(-1, 1).to(device)\n",
    "        outputs = model(event, rna=rna, scna=scna, methy=methy)\n",
    "        \n",
    "        # concat torch tensors\n",
    "        table = torch.cat((time, event, outputs), 1)\n",
    "        \n",
    "        # print row by row\n",
    "        print(\"Sanity Check:\")\n",
    "        print(\"time, event, predicted\")\n",
    "        for row in table:\n",
    "            print(row.tolist())\n",
    "        break"
   ]
  },
  {
   "cell_type": "code",
   "execution_count": null,
   "metadata": {},
   "outputs": [
    {
     "name": "stdout",
     "output_type": "stream",
     "text": [
      "[1.091178297996521, 0.6804453569153944, 0.6231756955385208, 0.6233249207337698, 0.6118835993111134, 0.6371393452088038, 0.6210088841617107, 0.6015973823765913, 0.5887632754941782, 0.5704758378366629, 0.6109214077393214, 0.5836750157177448, 0.6033178592721621, 0.6143522250155607, 0.5988648335138956, 0.5756115627785524, 0.6025844464699427, 0.5780049984653791, 0.6006980662544569, 0.5883169881999493, 0.5825897653897604, 0.5896185760696729, 0.5902309653659662, 0.6154125332832336, 0.5851350935796896, 0.5549411637087663, 0.5669780758519968, 0.5781946939726671, 0.5811946851511797, 0.5735298444827398, 0.5573716225723425, 0.5893578144411246, 0.5751541579763094, 0.5706254243850708, 0.5452771161993345, 0.5425012335181236, 0.5652928203344345, 0.5566865851481756, 0.5741078394154707, 0.5471719801425934, 0.5563496152559916, 0.5660253005723158, 0.5536101547380289, 0.5570531040430069, 0.5383208480974039, 0.5439110932250818, 0.5770820217827956, 0.5656026514867941, 0.551738460858663, 0.5632294379174709, 0.5519858623544375, 0.544311910867691, 0.5227891529599825, 0.5697840377688408, 0.5262163157264391, 0.5408950758477052, 0.5287322712441286, 0.537287775427103, 0.5265908800065517, 0.5536013195912043, 0.5693352917830149, 0.5203209407627583, 0.5542619340121746, 0.5410033824543158, 0.5727096721529961, 0.5330440526207288, 0.5114482790231705, 0.5333854941030344, 0.5220912055422863, 0.5363841274132332, 0.5607726437350115, 0.5596938307086626, 0.5174971433977286, 0.5292220078408718, 0.553158063441515, 0.5105048157274723, 0.5286872275173664, 0.5479136109352112, 0.5597947525481383, 0.5264132854839166, 0.5264037922024727, 0.537787314504385, 0.5467373120288054, 0.4952983322242896, 0.5266086993118128, 0.5288266030450662, 0.5103013304372629, 0.5307686987022558, 0.5387310038010279, 0.5255139643947283, 0.5330311780174574, 0.5112366775671641, 0.53178113574783, 0.5378547919293245, 0.5334978799025217, 0.5172502038379511, 0.5064907968044281, 0.5147132786611716, 0.5214494206011295, 0.5363889882961909, 0.541891548782587]\n"
     ]
    }
   ],
   "source": [
    "print(epoch_train_losses)"
   ]
  },
  {
   "cell_type": "markdown",
   "metadata": {},
   "source": []
  }
 ],
 "metadata": {
  "kernelspec": {
   "display_name": "csci1470",
   "language": "python",
   "name": "python3"
  },
  "language_info": {
   "codemirror_mode": {
    "name": "ipython",
    "version": 3
   },
   "file_extension": ".py",
   "mimetype": "text/x-python",
   "name": "python",
   "nbconvert_exporter": "python",
   "pygments_lexer": "ipython3",
   "version": "3.11.5"
  }
 },
 "nbformat": 4,
 "nbformat_minor": 2
}
