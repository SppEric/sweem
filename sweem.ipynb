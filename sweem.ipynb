{
 "cells": [
  {
   "cell_type": "markdown",
   "metadata": {},
   "source": [
    "# SWEEM Model Implementation\n",
    "\n",
    "This file is used to illustrate the preprocessing, training, and evaluation \n",
    "stages of our model. Comments and more information will be provided per section."
   ]
  },
  {
   "cell_type": "markdown",
   "metadata": {},
   "source": [
    "## Preprocessing\n",
    "\n",
    "Here we load in the data and establish our train-test split. We also set up dataloaders\n",
    "for us to be able to properly use the data within our training loop."
   ]
  },
  {
   "cell_type": "code",
   "execution_count": 2,
   "metadata": {},
   "outputs": [
    {
     "name": "stdout",
     "output_type": "stream",
     "text": [
      "The autoreload extension is already loaded. To reload it, use:\n",
      "  %reload_ext autoreload\n",
      "Running on cpu\n"
     ]
    }
   ],
   "source": [
    "%load_ext autoreload\n",
    "%autoreload 2\n",
    "\n",
    "import pandas as pd\n",
    "from sklearn.model_selection import train_test_split\n",
    "import torch\n",
    "import torch.nn as nn\n",
    "import torch.optim as optim\n",
    "from torch.utils.data import DataLoader, TensorDataset\n",
    "from tqdm import tqdm\n",
    "\n",
    "device = torch.device(\"cuda:0\" if torch.cuda.is_available() else \"cpu\")\n",
    "print(\"Running on\", device)"
   ]
  },
  {
   "cell_type": "code",
   "execution_count": 6,
   "metadata": {},
   "outputs": [
    {
     "name": "stdout",
     "output_type": "stream",
     "text": [
      "ZYX_rna\n",
      "A2M_rna\n",
      "ZYX_scna\n",
      "A2M_scna\n",
      "ZYX_methy\n",
      "A2M_methy\n",
      "Index(['OS_DAYS', 'OS_EVENT'], dtype='object')\n"
     ]
    }
   ],
   "source": [
    "data = pd.read_csv('./Data/OmicsData/data.csv')\n",
    "# data = pd.concat([data.iloc[:, :5541], data.iloc[:, -2:]], axis=1)\n",
    "\n",
    "# Separate to make sure that there's an even distribution of 1s and 0s in train and test\n",
    "data_ones = data[data.iloc[:, -1] == 1]\n",
    "data_zeros = data[data.iloc[:, -1] == 0]\n",
    "\n",
    "# Split the data into train and validation sets.\n",
    "# Train test split is 80 20\n",
    "train_data_ones, test_data_ones, train_labels_ones, test_labels_ones = train_test_split(\n",
    "    data_ones.iloc[:, 1:-2], data_ones.iloc[:, -2:], test_size=0.2, random_state=42)\n",
    "train_data_zeros, test_data_zeros, train_labels_zeros, test_labels_zeros = train_test_split(\n",
    "    data_zeros.iloc[:, 1:-2], data_zeros.iloc[:, -2:], test_size=0.2, random_state=42)\n",
    "\n",
    "# Concatenate in the end to make train and test\n",
    "train_data = pd.concat((train_data_ones, train_data_zeros))\n",
    "train_labels = pd.concat((train_labels_ones, train_labels_zeros))\n",
    "test_data = pd.concat((test_data_ones, test_data_zeros)) \n",
    "test_labels = pd.concat((test_labels_ones, test_labels_zeros))\n",
    "\n",
    "# 352 0's\n",
    "# 123 1's\n",
    "\n",
    "# Number of genes in rna: 5540\n",
    "# Number of genes in scna: 5507\n",
    "# Number of genes in methy: 4846\n",
    "# Total number of genes: 15893\n",
    "# Total number of samples in the final dataset: 475\n",
    "\n",
    "#rna\n",
    "print(train_data.columns[0])\n",
    "print(train_data.columns[5539])\n",
    "#scna\n",
    "print(train_data.columns[5540])\n",
    "print(train_data.columns[11046])\n",
    "#methy\n",
    "print(train_data.columns[11047])\n",
    "print(train_data.columns[15892])\n",
    "\n",
    "#labels\n",
    "print(train_labels.columns)\n",
    "\n",
    "# Create Tensor datasets\n",
    "train_dataset = TensorDataset(torch.tensor(train_data.values, dtype=torch.float32), torch.tensor(train_labels.values, dtype=torch.float32))\n",
    "#val_dataset   = TensorDataset(torch.tensor(validation_data.values, dtype=torch.float32), torch.tensor(validation_labels.values, dtype=torch.float32))\n",
    "test_dataset  = TensorDataset(torch.tensor(test_data.values, dtype=torch.float32), torch.tensor(test_labels.values, dtype=torch.float32))\n",
    "\n",
    "# Create DataLoader objects\n",
    "batch_size = 380\n",
    "train_dataloader = DataLoader(train_dataset, batch_size=batch_size, shuffle=True)\n",
    "#val_dataloader   = DataLoader(val_dataset,   batch_size=batch_size, shuffle=False)\n",
    "test_dataloader  = DataLoader(test_dataset,  batch_size=batch_size, shuffle=False)"
   ]
  },
  {
   "cell_type": "markdown",
   "metadata": {},
   "source": [
    "## Train Loop"
   ]
  },
  {
   "cell_type": "code",
   "execution_count": 10,
   "metadata": {},
   "outputs": [
    {
     "name": "stdout",
     "output_type": "stream",
     "text": [
      "Epoch 1 training:\n"
     ]
    },
    {
     "name": "stderr",
     "output_type": "stream",
     "text": [
      "  0%|          | 0/1 [00:34<?, ?it/s]\n"
     ]
    },
    {
     "name": "stdout",
     "output_type": "stream",
     "text": [
      "c_index:  tensor(0.5149)\n",
      "c_index_loss:  tensor(0.6636)\n",
      "brier:  tensor(0.2401, grad_fn=<MeanBackward0>)\n",
      "brier_loss:  tensor(0.2745, grad_fn=<NegBackward0>)\n"
     ]
    },
    {
     "ename": "",
     "evalue": "",
     "output_type": "error",
     "traceback": [
      "\u001b[1;31mThe Kernel crashed while executing code in the the current cell or a previous cell. Please review the code in the cell(s) to identify a possible cause of the failure. Click <a href='https://aka.ms/vscodeJupyterKernelCrash'>here</a> for more info. View Jupyter <a href='command:jupyter.viewOutput'>log</a> for further details."
     ]
    }
   ],
   "source": [
    "### Training Loop\n",
    "from model import SWEEM\n",
    "from loss import temp_loss\n",
    "num_epochs = 1\n",
    "epoch_train_losses = []\n",
    "epoch_val_losses   = []\n",
    "\n",
    "model = SWEEM(rna_dim = 5540, \n",
    "              scna_dim = 5507, \n",
    "              methy_dim = 4846, \n",
    "              hidden_dim = 128, \n",
    "              self_att = False, \n",
    "              cross_att = False)\n",
    "model.to(device)\n",
    "\n",
    "criterion = temp_loss\n",
    "optimizer = optim.Adam(model.parameters(), lr=0.005)\n",
    "\n",
    "for epoch in range(num_epochs):\n",
    "    epoch_train_loss = 0\n",
    "    epoch_val_loss   = 0\n",
    "    print(f\"Epoch {epoch + 1} training:\")\n",
    "    progress_bar = tqdm(range(len(train_dataloader)))\n",
    "\n",
    "    ## Training\n",
    "    model.train()\n",
    "    for (batchX, batchY) in train_dataloader:        \n",
    "        batchX = batchX.to(device)\n",
    "        rna = batchX[:, :5540]\n",
    "        scna = batchX[:, 5540:11047]\n",
    "        methy = batchX[:, 11047:]\n",
    "        time = batchY[:,0].reshape(-1, 1).to(device)\n",
    "        event = batchY[:,1].reshape(-1, 1).to(device)\n",
    "        \n",
    "        outputs = model(rna, scna, methy, event)\n",
    "        \n",
    "        loss = criterion(outputs, time, event)\n",
    "        loss.backward()\n",
    "        \n",
    "        optimizer.step()\n",
    "        optimizer.zero_grad()\n",
    "        \n",
    "        epoch_train_loss += loss.item()\n",
    "        progress_bar.update(1)\n",
    "        \n",
    "        ## Validation\n",
    "        model.eval()\n",
    "        with torch.no_grad():\n",
    "            for (batchX, batchY) in test_dataloader:\n",
    "                batchX = batchX.to(device)\n",
    "                rna = batchX[:, :5540]\n",
    "                scna = batchX[:, 5540:11047]\n",
    "                methy = batchX[:, 11047:]\n",
    "                time = batchY[:,0].reshape(-1, 1).to(device)\n",
    "                event = batchY[:,1].reshape(-1, 1).to(device)\n",
    "                outputs = model(rna, scna, methy, event)\n",
    "                loss = criterion(outputs, time, event)\n",
    "                epoch_val_loss += loss.item()\n",
    "\n",
    "        # Save and print losses\n",
    "        epoch_train_loss /= len(train_dataloader)\n",
    "        epoch_val_loss /= len(test_dataloader)\n",
    "        epoch_train_losses.append(epoch_train_loss)\n",
    "        epoch_val_losses.append(epoch_val_loss)\n",
    "        print(f\"Epoch {epoch + 1} training loss: {epoch_train_loss}\")\n",
    "        print(f\"Epoch {epoch + 1} validation loss: {epoch_val_loss}\")"
   ]
  },
  {
   "cell_type": "code",
   "execution_count": 9,
   "metadata": {},
   "outputs": [
    {
     "name": "stdout",
     "output_type": "stream",
     "text": [
      "times: tensor([[ 706.],\n",
      "        [ 772.],\n",
      "        [ 184.],\n",
      "        [ 455.],\n",
      "        [ 407.],\n",
      "        [ 544.],\n",
      "        [1585.],\n",
      "        [ 411.],\n",
      "        [ 956.],\n",
      "        [1354.],\n",
      "        [ 835.],\n",
      "        [2381.],\n",
      "        [ 648.],\n",
      "        [1257.],\n",
      "        [ 748.],\n",
      "        [6423.],\n",
      "        [1401.],\n",
      "        [ 442.],\n",
      "        [ 993.],\n",
      "        [2107.],\n",
      "        [ 900.],\n",
      "        [  96.],\n",
      "        [ 491.],\n",
      "        [5546.],\n",
      "        [ 629.],\n",
      "        [ 547.],\n",
      "        [ 122.],\n",
      "        [3725.],\n",
      "        [  62.],\n",
      "        [ 605.],\n",
      "        [1220.],\n",
      "        [1262.]])\n",
      "events: tensor([[0.],\n",
      "        [0.],\n",
      "        [0.],\n",
      "        [0.],\n",
      "        [0.],\n",
      "        [0.],\n",
      "        [1.],\n",
      "        [0.],\n",
      "        [0.],\n",
      "        [0.],\n",
      "        [0.],\n",
      "        [0.],\n",
      "        [1.],\n",
      "        [0.],\n",
      "        [0.],\n",
      "        [0.],\n",
      "        [0.],\n",
      "        [0.],\n",
      "        [0.],\n",
      "        [0.],\n",
      "        [0.],\n",
      "        [1.],\n",
      "        [0.],\n",
      "        [0.],\n",
      "        [0.],\n",
      "        [1.],\n",
      "        [0.],\n",
      "        [0.],\n",
      "        [0.],\n",
      "        [1.],\n",
      "        [1.],\n",
      "        [1.]])\n",
      "predictions: tensor([[0.],\n",
      "        [0.],\n",
      "        [0.],\n",
      "        [0.],\n",
      "        [0.],\n",
      "        [0.],\n",
      "        [0.],\n",
      "        [0.],\n",
      "        [0.],\n",
      "        [0.],\n",
      "        [0.],\n",
      "        [0.],\n",
      "        [0.],\n",
      "        [0.],\n",
      "        [0.],\n",
      "        [0.],\n",
      "        [0.],\n",
      "        [0.],\n",
      "        [0.],\n",
      "        [0.],\n",
      "        [0.],\n",
      "        [0.],\n",
      "        [0.],\n",
      "        [0.],\n",
      "        [0.],\n",
      "        [0.],\n",
      "        [0.],\n",
      "        [0.],\n",
      "        [0.],\n",
      "        [0.],\n",
      "        [0.],\n",
      "        [0.]])\n"
     ]
    }
   ],
   "source": [
    "### Sanity Check\n",
    "model.eval()\n",
    "with torch.no_grad():\n",
    "    for (batchX, batchY) in test_dataloader:\n",
    "        batchX = batchX.to(device)\n",
    "        rna = batchX[:, :5540]\n",
    "        scna = batchX[:, 5540:11047]\n",
    "        methy = batchX[:, 11047:]\n",
    "        time = batchY[:,0].reshape(-1, 1).to(device)\n",
    "        event = batchY[:,1].reshape(-1, 1).to(device)\n",
    "        outputs = model(rna, scna, methy, event)\n",
    "        print(f\"times: {time}\")\n",
    "        print(f\"events: {event}\")\n",
    "        print(f\"predictions: {outputs}\")\n",
    "        break"
   ]
  },
  {
   "cell_type": "markdown",
   "metadata": {},
   "source": []
  }
 ],
 "metadata": {
  "kernelspec": {
   "display_name": "csci1470",
   "language": "python",
   "name": "python3"
  },
  "language_info": {
   "codemirror_mode": {
    "name": "ipython",
    "version": 3
   },
   "file_extension": ".py",
   "mimetype": "text/x-python",
   "name": "python",
   "nbconvert_exporter": "python",
   "pygments_lexer": "ipython3",
   "version": "3.11.5"
  }
 },
 "nbformat": 4,
 "nbformat_minor": 2
}
