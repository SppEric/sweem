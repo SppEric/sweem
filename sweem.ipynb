{
 "cells": [
  {
   "cell_type": "markdown",
   "metadata": {},
   "source": [
    "# SWEEM Model Implementation\n",
    "\n",
    "This file is used to illustrate the preprocessing, training, and evaluation \n",
    "stages of our model. Comments and more information will be provided per section."
   ]
  },
  {
   "cell_type": "markdown",
   "metadata": {},
   "source": [
    "## Preprocessing\n",
    "\n",
    "Here we load in the data and establish our train-test split. We also set up dataloaders\n",
    "for us to be able to properly use the data within our training loop."
   ]
  },
  {
   "cell_type": "code",
   "execution_count": 12,
   "metadata": {},
   "outputs": [
    {
     "name": "stdout",
     "output_type": "stream",
     "text": [
      "The autoreload extension is already loaded. To reload it, use:\n",
      "  %reload_ext autoreload\n",
      "Running on cpu\n"
     ]
    }
   ],
   "source": [
    "%load_ext autoreload\n",
    "%autoreload 2\n",
    "\n",
    "import pandas as pd\n",
    "from sklearn.model_selection import train_test_split\n",
    "import torch\n",
    "import torch.nn as nn\n",
    "import torch.optim as optim\n",
    "from torch.utils.data import DataLoader, TensorDataset\n",
    "from tqdm import tqdm\n",
    "\n",
    "device = torch.device(\"cuda:0\" if torch.cuda.is_available() else \"cpu\")\n",
    "print(\"Running on\", device)"
   ]
  },
  {
   "cell_type": "code",
   "execution_count": 56,
   "metadata": {},
   "outputs": [
    {
     "name": "stdout",
     "output_type": "stream",
     "text": [
      "ZYX_rna\n",
      "A2M_rna\n",
      "ZYX_scna\n",
      "A2M_scna\n",
      "ZYX_methy\n",
      "A2M_methy\n",
      "Index(['OS_DAYS', 'OS_EVENT'], dtype='object')\n",
      "batch size:  16\n"
     ]
    }
   ],
   "source": [
    "data = pd.read_csv('./Data/OmicsData/data.csv')\n",
    "# data = pd.concat([data.iloc[:, :5541], data.iloc[:, -2:]], axis=1)\n",
    "\n",
    "# Separate to make sure that there's an even distribution of 1s and 0s in train and test\n",
    "data_ones = data[data.iloc[:, -1] == 1]\n",
    "data_zeros = data[data.iloc[:, -1] == 0]\n",
    "\n",
    "# Split the data into train and validation sets.\n",
    "# Train test split is 80 20\n",
    "train_data_ones, test_data_ones, train_labels_ones, test_labels_ones = train_test_split(\n",
    "    data_ones.iloc[:, 1:-2], data_ones.iloc[:, -2:], test_size=0.2, random_state=42)\n",
    "train_data_zeros, test_data_zeros, train_labels_zeros, test_labels_zeros = train_test_split(\n",
    "    data_zeros.iloc[:, 1:-2], data_zeros.iloc[:, -2:], test_size=0.2, random_state=42)\n",
    "\n",
    "# Concatenate in the end to make train and test\n",
    "train_data = pd.concat((train_data_ones, train_data_zeros))\n",
    "train_labels = pd.concat((train_labels_ones, train_labels_zeros))\n",
    "test_data = pd.concat((test_data_ones, test_data_zeros)) \n",
    "test_labels = pd.concat((test_labels_ones, test_labels_zeros))\n",
    "\n",
    "# 352 0's\n",
    "# 123 1's\n",
    "\n",
    "# Number of genes in rna: 5540\n",
    "# Number of genes in scna: 5507\n",
    "# Number of genes in methy: 4846\n",
    "# Total number of genes: 15893\n",
    "# Total number of samples in the final dataset: 475\n",
    "\n",
    "#rna\n",
    "print(train_data.columns[0])\n",
    "print(train_data.columns[5539])\n",
    "#scna\n",
    "print(train_data.columns[5540])\n",
    "print(train_data.columns[11046])\n",
    "#methy\n",
    "print(train_data.columns[11047])\n",
    "print(train_data.columns[15892])\n",
    "\n",
    "#labels\n",
    "print(train_labels.columns)\n",
    "\n",
    "# Create Tensor datasets\n",
    "train_dataset = TensorDataset(torch.tensor(train_data.values, dtype=torch.float32), torch.tensor(train_labels.values, dtype=torch.float32))\n",
    "#val_dataset   = TensorDataset(torch.tensor(validation_data.values, dtype=torch.float32), torch.tensor(validation_labels.values, dtype=torch.float32))\n",
    "test_dataset  = TensorDataset(torch.tensor(test_data.values, dtype=torch.float32), torch.tensor(test_labels.values, dtype=torch.float32))\n",
    "\n",
    "# Create DataLoader objects\n",
    "batch_size = 16\n",
    "train_dataloader = DataLoader(train_dataset, batch_size=batch_size, shuffle=True)\n",
    "#val_dataloader   = DataLoader(val_dataset,   batch_size=batch_size, shuffle=False)\n",
    "test_dataloader  = DataLoader(test_dataset,  batch_size=batch_size, shuffle=True)\n",
    "\n",
    "print(\"batch size: \", batch_size)"
   ]
  },
  {
   "cell_type": "markdown",
   "metadata": {},
   "source": [
    "## Train Loop"
   ]
  },
  {
   "cell_type": "code",
   "execution_count": 70,
   "metadata": {},
   "outputs": [],
   "source": [
    "settings = {\n",
    "    \"model\": {\n",
    "        \"rna_dim\": 5540,\n",
    "        \"scna_dim\": 5507,\n",
    "        \"methy_dim\": 4846,\n",
    "        \"use_rna\": True,\n",
    "        \"use_scna\": True,\n",
    "        \"use_methy\": False,\n",
    "        \"hidden_dim\": 32,\n",
    "        \"self_att\": False,\n",
    "        \"cross_att\": False,\n",
    "        \"device\": device\n",
    "    },\n",
    "    \"train\": {\n",
    "        \"lr\": 0.0001,\n",
    "        \"epochs\": 101,\n",
    "        \"epoch_mod\": 10\n",
    "    }\n",
    "}"
   ]
  },
  {
   "cell_type": "code",
   "execution_count": 71,
   "metadata": {},
   "outputs": [
    {
     "name": "stdout",
     "output_type": "stream",
     "text": [
      "Epoch 1 training loss: 1.091178297996521\n",
      "Epoch 1 validation loss: 0.6686240285634995\n",
      "Epoch 11 training loss: 0.6109214077393214\n",
      "Epoch 11 validation loss: 0.5951964457829794\n",
      "Epoch 21 training loss: 0.5825897653897604\n",
      "Epoch 21 validation loss: 0.6006471465031306\n",
      "Epoch 31 training loss: 0.5573716225723425\n",
      "Epoch 31 validation loss: 0.5436550875504812\n",
      "Epoch 41 training loss: 0.5563496152559916\n",
      "Epoch 41 validation loss: 0.5546911706527075\n",
      "Epoch 51 training loss: 0.5519858623544375\n",
      "Epoch 51 validation loss: 0.5704788416624069\n",
      "Epoch 61 training loss: 0.5693352917830149\n",
      "Epoch 61 validation loss: 0.5341236641009649\n",
      "Epoch 71 training loss: 0.5607726437350115\n",
      "Epoch 71 validation loss: 0.4939448932806651\n",
      "Epoch 81 training loss: 0.5264037922024727\n",
      "Epoch 81 validation loss: 0.5111846625804901\n",
      "Epoch 91 training loss: 0.5330311780174574\n",
      "Epoch 91 validation loss: 0.589444657166799\n",
      "Epoch 101 training loss: 0.541891548782587\n",
      "Epoch 101 validation loss: 0.5184443593025208\n"
     ]
    }
   ],
   "source": [
    "### Training Loop\n",
    "from model import SWEEM\n",
    "from loss import temp_loss, neg_par_log_likelihood\n",
    "\n",
    "epoch_train_losses = []\n",
    "epoch_val_losses   = []\n",
    "\n",
    "model = SWEEM(**settings[\"model\"])\n",
    "model.to(device)\n",
    "\n",
    "# criterion = temp_loss\n",
    "# binary cross entropy loss\n",
    "criterion = nn.BCELoss()\n",
    "optimizer = optim.Adam(model.parameters(), lr=settings[\"train\"][\"lr\"])\n",
    "\n",
    "for epoch in range(settings[\"train\"][\"epochs\"]):\n",
    "    epoch_train_loss = 0\n",
    "    epoch_val_loss   = 0\n",
    "    \n",
    "    ## Training\n",
    "    # print(f\"Epoch {epoch + 1} training:\")\n",
    "    # progress_bar = tqdm(range(len(train_dataloader)))\n",
    "\n",
    "    model.train()\n",
    "    for i, (batchX, batchY) in enumerate(train_dataloader):        \n",
    "        batchX = batchX.to(device)\n",
    "        rna = batchX[:, :5540]\n",
    "        scna = batchX[:, 5540:11047]\n",
    "        methy = batchX[:, 11047:]\n",
    "        time = batchY[:,0].reshape(-1, 1).to(device)\n",
    "        event = batchY[:,1].reshape(-1, 1).to(device)\n",
    "\n",
    "        outputs = model(event, rna=rna, scna=scna, methy=methy)\n",
    "        \n",
    "        # loss = criterion(outputs, time, event)\n",
    "        loss = criterion(outputs, event)\n",
    "        # print(f\"batch {i+1} loss: \", loss)\n",
    "        loss.backward()\n",
    "        \n",
    "        optimizer.step()\n",
    "        optimizer.zero_grad()\n",
    "        \n",
    "        epoch_train_loss += loss.item()\n",
    "        # progress_bar.update(1)\n",
    "        \n",
    "    ## Validation\n",
    "    # print(f\"Epoch {epoch + 1} validation:\")\n",
    "    # progress_bar = tqdm(range(len(test_dataloader)))\n",
    "    \n",
    "    model.eval()\n",
    "    with torch.no_grad():\n",
    "        for i, (batchX, batchY) in enumerate(test_dataloader):\n",
    "            batchX = batchX.to(device)\n",
    "            rna = batchX[:, :5540]\n",
    "            scna = batchX[:, 5540:11047]\n",
    "            methy = batchX[:, 11047:]\n",
    "            time = batchY[:,0].reshape(-1, 1).to(device)\n",
    "            event = batchY[:,1].reshape(-1, 1).to(device)\n",
    "            outputs = model(event, rna=rna, scna=scna, methy=methy)\n",
    "\n",
    "            #outputs = model(rna, scna, methy, event)\n",
    "            # loss = criterion(outputs, time, event)\n",
    "            loss = criterion(outputs, event)\n",
    "            epoch_val_loss += loss.item()\n",
    "            # progress_bar.update(1)\n",
    "\n",
    "    # Save and print losses\n",
    "    epoch_train_loss /= len(train_dataloader)\n",
    "    epoch_val_loss /= len(test_dataloader)\n",
    "    epoch_train_losses.append(epoch_train_loss)\n",
    "    epoch_val_losses.append(epoch_val_loss)\n",
    "    if epoch % settings[\"train\"][\"epoch_mod\"] == 0:\n",
    "        print(f\"Epoch {epoch + 1} training loss: {epoch_train_loss}\")\n",
    "        print(f\"Epoch {epoch + 1} validation loss: {epoch_val_loss}\")"
   ]
  },
  {
   "cell_type": "code",
   "execution_count": 72,
   "metadata": {},
   "outputs": [
    {
     "name": "stdout",
     "output_type": "stream",
     "text": [
      "Sanity Check:\n",
      "time, event, predicted\n",
      "[492.0, 1.0, 0.49946901202201843]\n",
      "[1058.0, 0.0, 0.1540626883506775]\n",
      "[1585.0, 1.0, 0.23833434283733368]\n",
      "[257.0, 0.0, 0.43128618597984314]\n",
      "[2433.0, 1.0, 0.38814905285835266]\n",
      "[1191.0, 0.0, 0.2459455281496048]\n",
      "[2772.0, 0.0, 0.3042075037956238]\n",
      "[1183.0, 1.0, 0.17927546799182892]\n",
      "[522.0, 0.0, 0.23103226721286774]\n",
      "[533.0, 0.0, 0.38528895378112793]\n",
      "[1458.0, 0.0, 0.2566658854484558]\n",
      "[55.0, 0.0, 0.3051906228065491]\n",
      "[3253.0, 0.0, 0.49946901202201843]\n",
      "[411.0, 0.0, 0.37086620926856995]\n",
      "[585.0, 0.0, 0.2274782508611679]\n",
      "[544.0, 0.0, 0.3775646686553955]\n"
     ]
    }
   ],
   "source": [
    "### Sanity Check\n",
    "model.eval()\n",
    "with torch.no_grad():\n",
    "    for (batchX, batchY) in test_dataloader:\n",
    "        batchX = batchX.to(device)\n",
    "        rna = batchX[:, :5540]\n",
    "        scna = batchX[:, 5540:11047]\n",
    "        methy = batchX[:, 11047:]\n",
    "        time = batchY[:,0].reshape(-1, 1).to(device)\n",
    "        event = batchY[:,1].reshape(-1, 1).to(device)\n",
    "        outputs = model(event, rna=rna, scna=scna, methy=methy)\n",
    "        \n",
    "        # concat torch tensors\n",
    "        table = torch.cat((time, event, outputs), 1)\n",
    "        \n",
    "        # print row by row\n",
    "        print(\"Sanity Check:\")\n",
    "        print(\"time, event, predicted\")\n",
    "        for row in table:\n",
    "            print(row.tolist())\n",
    "        break"
   ]
  },
  {
   "cell_type": "code",
   "execution_count": 73,
   "metadata": {},
   "outputs": [],
   "source": [
    "import checkpoint\n",
    "\n",
    "checkpoint.save(\"./sweem.model\", model, optimizer, epoch_train_losses, epoch_val_losses, settings)\n",
    "\n",
    "model, optimizer, epoch_train_losses, epoch_val_losses, settings = checkpoint.load(\"./sweem.model\", SWEEM, optim.Adam)"
   ]
  },
  {
   "cell_type": "code",
   "execution_count": 74,
   "metadata": {},
   "outputs": [
    {
     "name": "stdout",
     "output_type": "stream",
     "text": [
      "Sanity Check:\n",
      "time, event, predicted\n",
      "[835.0, 0.0, 0.2668880820274353]\n",
      "[585.0, 0.0, 0.22324496507644653]\n",
      "[492.0, 1.0, 0.49946901202201843]\n",
      "[351.0, 1.0, 0.39260634779930115]\n",
      "[992.0, 0.0, 0.16521213948726654]\n",
      "[1481.0, 1.0, 0.11523571610450745]\n",
      "[326.0, 0.0, 0.49946901202201843]\n",
      "[1242.0, 1.0, 0.3857501745223999]\n",
      "[1183.0, 1.0, 0.18767809867858887]\n",
      "[442.0, 0.0, 0.12709879875183105]\n",
      "[1137.0, 1.0, 0.21330054104328156]\n",
      "[1393.0, 0.0, 0.49946901202201843]\n",
      "[153.0, 0.0, 0.1625303030014038]\n",
      "[566.0, 0.0, 0.45260533690452576]\n",
      "[908.0, 0.0, 0.49946901202201843]\n",
      "[442.0, 0.0, 0.49946901202201843]\n"
     ]
    }
   ],
   "source": [
    "### Sanity Check\n",
    "model.eval()\n",
    "with torch.no_grad():\n",
    "    for (batchX, batchY) in test_dataloader:\n",
    "        batchX = batchX.to(device)\n",
    "        rna = batchX[:, :5540]\n",
    "        scna = batchX[:, 5540:11047]\n",
    "        methy = batchX[:, 11047:]\n",
    "        time = batchY[:,0].reshape(-1, 1).to(device)\n",
    "        event = batchY[:,1].reshape(-1, 1).to(device)\n",
    "        outputs = model(event, rna=rna, scna=scna, methy=methy)\n",
    "        \n",
    "        # concat torch tensors\n",
    "        table = torch.cat((time, event, outputs), 1)\n",
    "        \n",
    "        # print row by row\n",
    "        print(\"Sanity Check:\")\n",
    "        print(\"time, event, predicted\")\n",
    "        for row in table:\n",
    "            print(row.tolist())\n",
    "        break"
   ]
  },
  {
   "cell_type": "code",
   "execution_count": 75,
   "metadata": {},
   "outputs": [
    {
     "name": "stdout",
     "output_type": "stream",
     "text": [
      "[1.091178297996521, 0.6804453569153944, 0.6231756955385208, 0.6233249207337698, 0.6118835993111134, 0.6371393452088038, 0.6210088841617107, 0.6015973823765913, 0.5887632754941782, 0.5704758378366629, 0.6109214077393214, 0.5836750157177448, 0.6033178592721621, 0.6143522250155607, 0.5988648335138956, 0.5756115627785524, 0.6025844464699427, 0.5780049984653791, 0.6006980662544569, 0.5883169881999493, 0.5825897653897604, 0.5896185760696729, 0.5902309653659662, 0.6154125332832336, 0.5851350935796896, 0.5549411637087663, 0.5669780758519968, 0.5781946939726671, 0.5811946851511797, 0.5735298444827398, 0.5573716225723425, 0.5893578144411246, 0.5751541579763094, 0.5706254243850708, 0.5452771161993345, 0.5425012335181236, 0.5652928203344345, 0.5566865851481756, 0.5741078394154707, 0.5471719801425934, 0.5563496152559916, 0.5660253005723158, 0.5536101547380289, 0.5570531040430069, 0.5383208480974039, 0.5439110932250818, 0.5770820217827956, 0.5656026514867941, 0.551738460858663, 0.5632294379174709, 0.5519858623544375, 0.544311910867691, 0.5227891529599825, 0.5697840377688408, 0.5262163157264391, 0.5408950758477052, 0.5287322712441286, 0.537287775427103, 0.5265908800065517, 0.5536013195912043, 0.5693352917830149, 0.5203209407627583, 0.5542619340121746, 0.5410033824543158, 0.5727096721529961, 0.5330440526207288, 0.5114482790231705, 0.5333854941030344, 0.5220912055422863, 0.5363841274132332, 0.5607726437350115, 0.5596938307086626, 0.5174971433977286, 0.5292220078408718, 0.553158063441515, 0.5105048157274723, 0.5286872275173664, 0.5479136109352112, 0.5597947525481383, 0.5264132854839166, 0.5264037922024727, 0.537787314504385, 0.5467373120288054, 0.4952983322242896, 0.5266086993118128, 0.5288266030450662, 0.5103013304372629, 0.5307686987022558, 0.5387310038010279, 0.5255139643947283, 0.5330311780174574, 0.5112366775671641, 0.53178113574783, 0.5378547919293245, 0.5334978799025217, 0.5172502038379511, 0.5064907968044281, 0.5147132786611716, 0.5214494206011295, 0.5363889882961909, 0.541891548782587]\n"
     ]
    }
   ],
   "source": [
    "print(epoch_train_losses)"
   ]
  },
  {
   "cell_type": "markdown",
   "metadata": {},
   "source": []
  }
 ],
 "metadata": {
  "kernelspec": {
   "display_name": "csci1470",
   "language": "python",
   "name": "python3"
  },
  "language_info": {
   "codemirror_mode": {
    "name": "ipython",
    "version": 3
   },
   "file_extension": ".py",
   "mimetype": "text/x-python",
   "name": "python",
   "nbconvert_exporter": "python",
   "pygments_lexer": "ipython3",
   "version": "3.11.6"
  }
 },
 "nbformat": 4,
 "nbformat_minor": 2
}
