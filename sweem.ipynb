{
 "cells": [
  {
   "cell_type": "markdown",
   "metadata": {},
   "source": [
    "# SWEEM Model Implementation\n",
    "\n",
    "This file is used to illustrate the preprocessing, training, and evaluation \n",
    "stages of our model. Comments and more information will be provided per section."
   ]
  },
  {
   "cell_type": "markdown",
   "metadata": {},
   "source": [
    "## Preprocessing\n",
    "\n",
    "Here we load in the data and establish our train-test split. We also set up dataloaders\n",
    "for us to be able to properly use the data within our training loop."
   ]
  },
  {
   "cell_type": "code",
   "execution_count": 13,
   "metadata": {},
   "outputs": [
    {
     "name": "stdout",
     "output_type": "stream",
     "text": [
      "The autoreload extension is already loaded. To reload it, use:\n",
      "  %reload_ext autoreload\n",
      "Running on cpu\n"
     ]
    }
   ],
   "source": [
    "%load_ext autoreload\n",
    "%autoreload 2\n",
    "\n",
    "import pandas as pd\n",
    "from sklearn.model_selection import train_test_split\n",
    "import torch\n",
    "import torch.nn as nn\n",
    "import torch.optim as optim\n",
    "from torch.utils.data import DataLoader, TensorDataset\n",
    "from tqdm import tqdm\n",
    "import checkpoint\n",
    "\n",
    "device = torch.device(\"cuda:0\" if torch.cuda.is_available() else \"cpu\")\n",
    "print(\"Running on\", device)"
   ]
  },
  {
   "cell_type": "code",
   "execution_count": 14,
   "metadata": {},
   "outputs": [
    {
     "name": "stdout",
     "output_type": "stream",
     "text": [
      "ZYX_rna\n",
      "A2M_rna\n",
      "ZYX_scna\n",
      "A2M_scna\n",
      "ZYX_methy\n",
      "A2M_methy\n",
      "Index(['OS_DAYS', 'OS_EVENT'], dtype='object')\n",
      "batch size:  16\n"
     ]
    }
   ],
   "source": [
    "data = pd.read_csv('./Data/OmicsData/data.csv')\n",
    "# data = pd.concat([data.iloc[:, :5541], data.iloc[:, -2:]], axis=1)\n",
    "\n",
    "# Separate to make sure that there's an even distribution of 1s and 0s in train and test\n",
    "data_ones = data[data.iloc[:, -1] == 1]\n",
    "data_zeros = data[data.iloc[:, -1] == 0]\n",
    "\n",
    "# Split the data into train and validation sets.\n",
    "# Train test split is 80 20\n",
    "train_data_ones, test_data_ones, train_labels_ones, test_labels_ones = train_test_split(\n",
    "    data_ones.iloc[:, 1:-2], data_ones.iloc[:, -2:], test_size=0.2, random_state=42)\n",
    "train_data_zeros, test_data_zeros, train_labels_zeros, test_labels_zeros = train_test_split(\n",
    "    data_zeros.iloc[:, 1:-2], data_zeros.iloc[:, -2:], test_size=0.2, random_state=42)\n",
    "\n",
    "# Concatenate in the end to make train and test\n",
    "train_data = pd.concat((train_data_ones, train_data_zeros))\n",
    "train_labels = pd.concat((train_labels_ones, train_labels_zeros))\n",
    "test_data = pd.concat((test_data_ones, test_data_zeros)) \n",
    "test_labels = pd.concat((test_labels_ones, test_labels_zeros))\n",
    "\n",
    "# 352 0's\n",
    "# 123 1's\n",
    "\n",
    "# Number of genes in rna: 5540\n",
    "# Number of genes in scna: 5507\n",
    "# Number of genes in methy: 4846\n",
    "# Total number of genes: 15893\n",
    "# Total number of samples in the final dataset: 475\n",
    "\n",
    "#rna\n",
    "print(train_data.columns[0])\n",
    "print(train_data.columns[5539])\n",
    "#scna\n",
    "print(train_data.columns[5540])\n",
    "print(train_data.columns[11046])\n",
    "#methy\n",
    "print(train_data.columns[11047])\n",
    "print(train_data.columns[15892])\n",
    "\n",
    "#labels\n",
    "print(train_labels.columns)\n",
    "\n",
    "# Create Tensor datasets\n",
    "train_dataset = TensorDataset(torch.tensor(train_data.values, dtype=torch.float32), torch.tensor(train_labels.values, dtype=torch.float32))\n",
    "#val_dataset   = TensorDataset(torch.tensor(validation_data.values, dtype=torch.float32), torch.tensor(validation_labels.values, dtype=torch.float32))\n",
    "test_dataset  = TensorDataset(torch.tensor(test_data.values, dtype=torch.float32), torch.tensor(test_labels.values, dtype=torch.float32))\n",
    "\n",
    "# Create DataLoader objects\n",
    "batch_size = 16\n",
    "train_dataloader = DataLoader(train_dataset, batch_size=batch_size, shuffle=True)\n",
    "#val_dataloader   = DataLoader(val_dataset,   batch_size=batch_size, shuffle=False)\n",
    "test_dataloader  = DataLoader(test_dataset,  batch_size=batch_size, shuffle=True)\n",
    "\n",
    "print(\"batch size: \", batch_size)"
   ]
  },
  {
   "cell_type": "markdown",
   "metadata": {},
   "source": [
    "## Train Loop"
   ]
  },
  {
   "cell_type": "code",
   "execution_count": 15,
   "metadata": {},
   "outputs": [],
   "source": [
    "settings = {\n",
    "    \"model\": {\n",
    "        \"rna_dim\": 5540,\n",
    "        \"scna_dim\": 5507,\n",
    "        \"methy_dim\": 4846,\n",
    "        \"use_rna\": True,\n",
    "        \"use_scna\": True,\n",
    "        \"use_methy\": False,\n",
    "        \"hidden_dim\": 64,\n",
    "        \"self_att\": False,\n",
    "        \"cross_att\": False,\n",
    "        \"device\": device\n",
    "    },\n",
    "    \"train\": {\n",
    "        \"lr\": 0.0001,\n",
    "        \"l2\": 1e-5,\n",
    "        \"epochs\": 5,\n",
    "        \"epoch_mod\": 1\n",
    "    }\n",
    "}"
   ]
  },
  {
   "cell_type": "code",
   "execution_count": 16,
   "metadata": {},
   "outputs": [
    {
     "name": "stdout",
     "output_type": "stream",
     "text": [
      "Epoch 1 training loss: 1.4706139067808788\n",
      "Epoch 1 validation loss: 1.409365137418111\n",
      "Epoch 2 training loss: 0.835314237823089\n",
      "Epoch 2 validation loss: 0.7055389583110809\n",
      "Epoch 3 training loss: 0.6451539024710655\n",
      "Epoch 3 validation loss: 0.6701457848151525\n",
      "Epoch 4 training loss: 0.6479893177747726\n",
      "Epoch 4 validation loss: 0.6169155240058899\n",
      "Epoch 5 training loss: 0.6121218030651411\n",
      "Epoch 5 validation loss: 0.5708580911159515\n"
     ]
    }
   ],
   "source": [
    "### Training Loop\n",
    "from model import SWEEM\n",
    "from loss import temp_loss, neg_par_log_likelihood\n",
    "\n",
    "epoch_train_losses = []\n",
    "epoch_val_losses   = []\n",
    "\n",
    "model = SWEEM(**settings[\"model\"])\n",
    "model.to(device)\n",
    "\n",
    "# criterion = temp_loss\n",
    "# binary cross entropy loss\n",
    "criterion = nn.BCELoss()\n",
    "optimizer = optim.Adam(model.parameters(), lr=settings[\"train\"][\"lr\"], weight_decay=settings[\"train\"][\"l2\"])\n",
    "\n",
    "for epoch in range(settings[\"train\"][\"epochs\"]):\n",
    "    epoch_train_loss = 0\n",
    "    epoch_val_loss   = 0\n",
    "    \n",
    "    ## Training\n",
    "    # print(f\"Epoch {epoch + 1} training:\")\n",
    "    # progress_bar = tqdm(range(len(train_dataloader)))\n",
    "\n",
    "    model.train()\n",
    "    for i, (batchX, batchY) in enumerate(train_dataloader):        \n",
    "        batchX = batchX.to(device)\n",
    "        rna = batchX[:, :5540]\n",
    "        scna = batchX[:, 5540:11047]\n",
    "        methy = batchX[:, 11047:]\n",
    "        time = batchY[:,0].reshape(-1, 1).to(device)\n",
    "        event = batchY[:,1].reshape(-1, 1).to(device)\n",
    "\n",
    "        outputs = model(event, rna=rna, scna=scna, methy=methy)\n",
    "        \n",
    "        # loss = criterion(outputs, time, event)\n",
    "        loss = criterion(outputs, event)\n",
    "        # print(f\"batch {i+1} loss: \", loss)\n",
    "        loss.backward()\n",
    "        \n",
    "        optimizer.step()\n",
    "        optimizer.zero_grad()\n",
    "        \n",
    "        epoch_train_loss += loss.item()\n",
    "        # progress_bar.update(1)\n",
    "        \n",
    "    ## Validation\n",
    "    # print(f\"Epoch {epoch + 1} validation:\")\n",
    "    # progress_bar = tqdm(range(len(test_dataloader)))\n",
    "    \n",
    "    model.eval()\n",
    "    with torch.no_grad():\n",
    "        for i, (batchX, batchY) in enumerate(test_dataloader):\n",
    "            batchX = batchX.to(device)\n",
    "            rna = batchX[:, :5540]\n",
    "            scna = batchX[:, 5540:11047]\n",
    "            methy = batchX[:, 11047:]\n",
    "            time = batchY[:,0].reshape(-1, 1).to(device)\n",
    "            event = batchY[:,1].reshape(-1, 1).to(device)\n",
    "            outputs = model(event, rna=rna, scna=scna, methy=methy)\n",
    "\n",
    "            #outputs = model(rna, scna, methy, event)\n",
    "            # loss = criterion(outputs, time, event)\n",
    "            loss = criterion(outputs, event)\n",
    "            epoch_val_loss += loss.item()\n",
    "            # progress_bar.update(1)\n",
    "\n",
    "    # Save and print losses\n",
    "    epoch_train_loss /= len(train_dataloader)\n",
    "    epoch_val_loss /= len(test_dataloader)\n",
    "    epoch_train_losses.append(epoch_train_loss)\n",
    "    epoch_val_losses.append(epoch_val_loss)\n",
    "    if epoch % settings[\"train\"][\"epoch_mod\"] == 0:\n",
    "        print(f\"Epoch {epoch + 1} training loss: {epoch_train_loss}\")\n",
    "        print(f\"Epoch {epoch + 1} validation loss: {epoch_val_loss}\")"
   ]
  },
  {
   "cell_type": "code",
   "execution_count": 17,
   "metadata": {},
   "outputs": [
    {
     "name": "stdout",
     "output_type": "stream",
     "text": [
      "Sanity Check:\n",
      "time, event, predicted\n",
      "[442.0, 0.0, 0.1938619166612625]\n",
      "[292.0, 0.0, 0.18911351263523102]\n",
      "[564.0, 0.0, 0.2952427566051483]\n",
      "[722.0, 1.0, 0.5404471755027771]\n",
      "[241.0, 1.0, 0.4509541690349579]\n",
      "[326.0, 0.0, 0.24414752423763275]\n",
      "[434.0, 0.0, 0.32922402024269104]\n",
      "[63.0, 0.0, 0.09088050574064255]\n",
      "[1585.0, 1.0, 0.4302815794944763]\n",
      "[544.0, 0.0, 0.33130818605422974]\n",
      "[585.0, 0.0, 0.31077396869659424]\n",
      "[245.0, 1.0, 0.32782426476478577]\n",
      "[609.0, 0.0, 0.3032451868057251]\n",
      "[2860.0, 0.0, 0.40283891558647156]\n",
      "[946.0, 0.0, 0.3657281994819641]\n",
      "[162.0, 0.0, 0.30680325627326965]\n"
     ]
    }
   ],
   "source": [
    "### Sanity Check\n",
    "model.eval()\n",
    "with torch.no_grad():\n",
    "    for (batchX, batchY) in test_dataloader:\n",
    "        batchX = batchX.to(device)\n",
    "        rna = batchX[:, :5540].to(device)\n",
    "        scna = batchX[:, 5540:11047].to(device)\n",
    "        methy = batchX[:, 11047:].to(device)\n",
    "        time = batchY[:,0].reshape(-1, 1).to(device)\n",
    "        event = batchY[:,1].reshape(-1, 1).to(device)\n",
    "        outputs = model(event, rna=rna, scna=scna, methy=methy)\n",
    "        \n",
    "        # concat torch tensors\n",
    "        table = torch.cat((time, event, outputs), 1)\n",
    "        \n",
    "        # print row by row\n",
    "        print(\"Sanity Check:\")\n",
    "        print(\"time, event, predicted\")\n",
    "        for row in table:\n",
    "            print(row.tolist())\n",
    "        break"
   ]
  },
  {
   "cell_type": "code",
   "execution_count": 21,
   "metadata": {},
   "outputs": [
    {
     "name": "stdout",
     "output_type": "stream",
     "text": [
      "settings:  {'model': {'rna_dim': 5540, 'scna_dim': 5507, 'methy_dim': 4846, 'use_rna': True, 'use_scna': True, 'use_methy': False, 'hidden_dim': 64, 'self_att': False, 'cross_att': False, 'device': device(type='cpu')}, 'train': {'lr': 0.0001, 'l2': 1e-05, 'epochs': 5, 'epoch_mod': 1}}\n"
     ]
    }
   ],
   "source": [
    "import checkpoint\n",
    "\n",
    "# save and load for training\n",
    "\n",
    "checkpoint.save(\"./sweem.model\", model, settings, optimizer, epoch_train_losses, epoch_val_losses, inference=False)\n",
    "\n",
    "model, settings, optimizer, epoch_train_losses, epoch_val_losses = checkpoint.load(\"./sweem.model\", SWEEM, optim.Adam, inference=False)\n",
    "\n",
    "print(\"settings: \", settings)"
   ]
  },
  {
   "cell_type": "code",
   "execution_count": 23,
   "metadata": {},
   "outputs": [
    {
     "name": "stdout",
     "output_type": "stream",
     "text": [
      "settings:  {'model': {'rna_dim': 5540, 'scna_dim': 5507, 'methy_dim': 4846, 'use_rna': True, 'use_scna': True, 'use_methy': False, 'hidden_dim': 64, 'self_att': False, 'cross_att': False, 'device': device(type='cpu')}, 'train': {'lr': 0.0001, 'l2': 1e-05, 'epochs': 5, 'epoch_mod': 1}}\n"
     ]
    }
   ],
   "source": [
    "# save and load for inference\n",
    "\n",
    "checkpoint.save(\"./sweem_inf.model\", model, settings, inference=True)\n",
    "\n",
    "model, settings = checkpoint.load(\"./sweem_inf.model\", SWEEM, inference=True)\n",
    "\n",
    "print(\"settings: \", settings)"
   ]
  },
  {
   "cell_type": "markdown",
   "metadata": {},
   "source": []
  }
 ],
 "metadata": {
  "kernelspec": {
   "display_name": "csci1470",
   "language": "python",
   "name": "python3"
  },
  "language_info": {
   "codemirror_mode": {
    "name": "ipython",
    "version": 3
   },
   "file_extension": ".py",
   "mimetype": "text/x-python",
   "name": "python",
   "nbconvert_exporter": "python",
   "pygments_lexer": "ipython3",
   "version": "3.11.5"
  }
 },
 "nbformat": 4,
 "nbformat_minor": 2
}
