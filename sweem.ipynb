{
 "cells": [
  {
   "cell_type": "markdown",
   "metadata": {},
   "source": [
    "# SWEEM Model Implementation\n",
    "\n",
    "This file is used to illustrate the preprocessing, training, and evaluation \n",
    "stages of our model. Comments and more information will be provided per section."
   ]
  },
  {
   "cell_type": "markdown",
   "metadata": {},
   "source": [
    "## Preprocessing\n",
    "\n",
    "Here we load in the data and establish our train-test split. We also set up dataloaders\n",
    "for us to be able to properly use the data within our training loop."
   ]
  },
  {
   "cell_type": "code",
   "execution_count": 4,
   "metadata": {},
   "outputs": [],
   "source": [
    "%load_ext autoreload\n",
    "%autoreload 2\n",
    "\n",
    "import pandas as pd\n",
    "from sklearn.model_selection import train_test_split\n",
    "import torch\n",
    "import torch.nn as nn\n",
    "import torch.optim as optim\n",
    "from torch.utils.data import DataLoader, TensorDataset\n",
    "from tqdm import tqdm"
   ]
  },
  {
   "cell_type": "code",
   "execution_count": 5,
   "metadata": {},
   "outputs": [
    {
     "name": "stdout",
     "output_type": "stream",
     "text": [
      "Running on cpu\n"
     ]
    }
   ],
   "source": [
    "device = torch.device(\"cuda:0\" if torch.cuda.is_available() else \"cpu\")\n",
    "print(\"Running on\", device)"
   ]
  },
  {
   "cell_type": "code",
   "execution_count": 6,
   "metadata": {},
   "outputs": [
    {
     "name": "stdout",
     "output_type": "stream",
     "text": [
      "(475, 15896)\n",
      "(380, 15893)\n",
      "(47, 15893)\n",
      "(48, 15893)\n",
      "ZYX_rna\n",
      "A2M_rna\n",
      "ZYX_scna\n",
      "A2M_scna\n",
      "ZYX_methy\n",
      "A2M_methy\n",
      "Index(['OS_DAYS', 'OS_EVENT'], dtype='object')\n"
     ]
    }
   ],
   "source": [
    "data = pd.read_csv('./Data/OmicsData/data.csv')\n",
    "# data = pd.concat([data.iloc[:, :5541], data.iloc[:, -2:]], axis=1)\n",
    "\n",
    "# Split the data into train and validation sets.\n",
    "# Train test validaiton split is 80 10 10\n",
    "train_data, test_data, train_labels, test_labels = train_test_split(\n",
    "    data.iloc[:, 1:-2], data.iloc[:, -2:], test_size=0.2, random_state=42)\n",
    "\n",
    "test_data, validation_data, test_labels, validation_labels = train_test_split(\n",
    "    test_data, test_labels, test_size=0.5, random_state=42)\n",
    "\n",
    "print(data.shape)\n",
    "print(train_data.shape)\n",
    "print(test_data.shape)\n",
    "print(validation_data.shape)\n",
    "\n",
    "# Number of genes in rna: 5540\n",
    "# Number of genes in scna: 5507\n",
    "# Number of genes in methy: 4846\n",
    "# Total number of genes: 15893\n",
    "# Total number of samples in the final dataset: 475\n",
    "\n",
    "#rna\n",
    "print(train_data.columns[0])\n",
    "print(train_data.columns[5539])\n",
    "#scna\n",
    "print(train_data.columns[5540])\n",
    "print(train_data.columns[11046])\n",
    "#methy\n",
    "print(train_data.columns[11047])\n",
    "print(train_data.columns[15892])\n",
    "\n",
    "#labels\n",
    "print(train_labels.columns)"
   ]
  },
  {
   "cell_type": "code",
   "execution_count": 7,
   "metadata": {},
   "outputs": [],
   "source": [
    "# Create Tensor datasets\n",
    "train_dataset = TensorDataset(torch.tensor(train_data.values, dtype=torch.float32), torch.tensor(train_labels.values, dtype=torch.float32))\n",
    "val_dataset   = TensorDataset(torch.tensor(validation_data.values, dtype=torch.float32), torch.tensor(validation_labels.values, dtype=torch.float32))\n",
    "test_dataset  = TensorDataset(torch.tensor(test_data.values, dtype=torch.float32), torch.tensor(test_labels.values, dtype=torch.float32))\n",
    "\n",
    "# Create DataLoader objects\n",
    "batch_size = 32\n",
    "train_dataloader = DataLoader(train_dataset, batch_size=batch_size, shuffle=True)\n",
    "val_dataloader   = DataLoader(val_dataset,   batch_size=batch_size, shuffle=False)\n",
    "test_dataloader  = DataLoader(test_dataset,  batch_size=batch_size, shuffle=False)"
   ]
  },
  {
   "cell_type": "markdown",
   "metadata": {},
   "source": [
    "## Define Self-Attention Model"
   ]
  },
  {
   "cell_type": "code",
   "execution_count": 5,
   "metadata": {},
   "outputs": [
    {
     "name": "stdout",
     "output_type": "stream",
     "text": [
      "LinearRegression(\n",
      "  (linear1): Linear(in_features=15893, out_features=256, bias=True)\n",
      "  (linear2): Linear(in_features=256, out_features=1, bias=True)\n",
      "  (relu): ReLU()\n",
      "  (identity): Identity()\n",
      ")\n"
     ]
    }
   ],
   "source": [
    "class LinearRegression(nn.Module):\n",
    "    def __init__(self, input_size):\n",
    "        super(LinearRegression, self).__init__()\n",
    "        self.linear1 = nn.Linear(input_size, 256)\n",
    "        self.linear2 = nn.Linear(256, 1)\n",
    "        self.relu = nn.ReLU()\n",
    "        self.identity = nn.Identity()\n",
    "\n",
    "    def forward(self, x):\n",
    "        out = self.linear1(x)\n",
    "        out = self.relu(out)\n",
    "        out = self.linear2(out)\n",
    "        # out = torch.sigmoid(out)\n",
    "        return out\n",
    "\n",
    "model = LinearRegression(15893)\n",
    "print(model)"
   ]
  },
  {
   "cell_type": "markdown",
   "metadata": {},
   "source": [
    "## Train Loop with Alt Dataloader"
   ]
  },
  {
   "cell_type": "code",
   "execution_count": 8,
   "metadata": {},
   "outputs": [
    {
     "name": "stdout",
     "output_type": "stream",
     "text": [
      "Epoch 1 training:\n"
     ]
    },
    {
     "name": "stderr",
     "output_type": "stream",
     "text": [
      "  8%|▊         | 1/12 [00:06<01:12,  6.61s/it]"
     ]
    },
    {
     "name": "stdout",
     "output_type": "stream",
     "text": [
      "Epoch 1 training loss: 0.0212319220105807\n",
      "Epoch 1 validation loss: 0.359375\n"
     ]
    },
    {
     "name": "stderr",
     "output_type": "stream",
     "text": [
      " 17%|█▋        | 2/12 [00:11<00:56,  5.65s/it]"
     ]
    },
    {
     "name": "stdout",
     "output_type": "stream",
     "text": [
      "Epoch 1 training loss: 0.027810993500881728\n",
      "Epoch 1 validation loss: 0.5390625\n"
     ]
    },
    {
     "name": "stderr",
     "output_type": "stream",
     "text": [
      " 25%|██▌       | 3/12 [00:17<00:50,  5.57s/it]"
     ]
    },
    {
     "name": "stdout",
     "output_type": "stream",
     "text": [
      "Epoch 1 training loss: 0.025755082791740144\n",
      "Epoch 1 validation loss: 0.62890625\n"
     ]
    },
    {
     "name": "stderr",
     "output_type": "stream",
     "text": [
      " 33%|███▎      | 4/12 [00:22<00:45,  5.69s/it]"
     ]
    },
    {
     "name": "stdout",
     "output_type": "stream",
     "text": [
      "Epoch 1 training loss: 0.015167090232645014\n",
      "Epoch 1 validation loss: 0.673828125\n"
     ]
    },
    {
     "name": "stderr",
     "output_type": "stream",
     "text": [
      " 42%|████▏     | 5/12 [00:28<00:38,  5.55s/it]"
     ]
    },
    {
     "name": "stdout",
     "output_type": "stream",
     "text": [
      "Epoch 1 training loss: 0.024701424186053752\n",
      "Epoch 1 validation loss: 0.6962890625\n"
     ]
    },
    {
     "name": "stderr",
     "output_type": "stream",
     "text": [
      " 50%|█████     | 6/12 [00:33<00:32,  5.48s/it]"
     ]
    },
    {
     "name": "stdout",
     "output_type": "stream",
     "text": [
      "Epoch 1 training loss: 0.020287618682171146\n",
      "Epoch 1 validation loss: 0.70751953125\n"
     ]
    },
    {
     "name": "stderr",
     "output_type": "stream",
     "text": [
      " 58%|█████▊    | 7/12 [00:38<00:27,  5.44s/it]"
     ]
    },
    {
     "name": "stdout",
     "output_type": "stream",
     "text": [
      "Epoch 1 training loss: 0.02512813489018093\n",
      "Epoch 1 validation loss: 0.713134765625\n"
     ]
    },
    {
     "name": "stderr",
     "output_type": "stream",
     "text": [
      " 67%|██████▋   | 8/12 [00:44<00:21,  5.38s/it]"
     ]
    },
    {
     "name": "stdout",
     "output_type": "stream",
     "text": [
      "Epoch 1 training loss: 0.022927344574181746\n",
      "Epoch 1 validation loss: 0.7159423828125\n"
     ]
    },
    {
     "name": "stderr",
     "output_type": "stream",
     "text": [
      " 75%|███████▌  | 9/12 [00:49<00:16,  5.45s/it]"
     ]
    },
    {
     "name": "stdout",
     "output_type": "stream",
     "text": [
      "Epoch 1 training loss: 0.014931445381181812\n",
      "Epoch 1 validation loss: 0.71734619140625\n"
     ]
    },
    {
     "name": "stderr",
     "output_type": "stream",
     "text": [
      " 83%|████████▎ | 10/12 [00:55<00:10,  5.41s/it]"
     ]
    },
    {
     "name": "stdout",
     "output_type": "stream",
     "text": [
      "Epoch 1 training loss: 0.01947345378176515\n",
      "Epoch 1 validation loss: 0.718048095703125\n"
     ]
    },
    {
     "name": "stderr",
     "output_type": "stream",
     "text": [
      " 92%|█████████▏| 11/12 [01:00<00:05,  5.31s/it]"
     ]
    },
    {
     "name": "stdout",
     "output_type": "stream",
     "text": [
      "Epoch 1 training loss: 0.02245612114848043\n",
      "Epoch 1 validation loss: 0.7183990478515625\n"
     ]
    },
    {
     "name": "stderr",
     "output_type": "stream",
     "text": [
      "100%|██████████| 12/12 [01:05<00:00,  5.42s/it]"
     ]
    },
    {
     "name": "stdout",
     "output_type": "stream",
     "text": [
      "Epoch 1 training loss: 0.02865705735996477\n",
      "Epoch 1 validation loss: 0.7185745239257812\n"
     ]
    }
   ],
   "source": [
    "### Training Loop\n",
    "from model import SelfAttentionModel\n",
    "from loss import temp_loss, neg_par_log_likelihood\n",
    "num_epochs = 1\n",
    "epoch_train_losses = []\n",
    "epoch_val_losses   = []\n",
    "\n",
    "model = SelfAttentionModel(5540, 5507, 4846)\n",
    "model.to(device)\n",
    "\n",
    "criterion = temp_loss\n",
    "optimizer = optim.Adam(model.parameters(), lr=0.01)\n",
    "\n",
    "for epoch in range(num_epochs):\n",
    "    epoch_train_loss = 0\n",
    "    epoch_val_loss   = 0\n",
    "    print(f\"Epoch {epoch + 1} training:\")\n",
    "    progress_bar = tqdm(range(len(train_dataloader)))\n",
    "\n",
    "    ## Training\n",
    "    model.train()\n",
    "    for (batchX, batchY) in train_dataloader:        \n",
    "        batchX = batchX.to(device)\n",
    "        rna = batchX[:, :5540]\n",
    "        scna = batchX[:, 5540:11047]\n",
    "        methy = batchX[:, 11047:]\n",
    "        time = batchY[:,0].reshape(-1, 1).to(device)\n",
    "        event = batchY[:,1].reshape(-1, 1).to(device)\n",
    "        \n",
    "        outputs = model(rna, scna, methy, event)\n",
    "        \n",
    "        loss = criterion(outputs, time, event)\n",
    "        loss.backward()\n",
    "        \n",
    "        optimizer.step()\n",
    "        optimizer.zero_grad()\n",
    "        \n",
    "        epoch_train_loss += loss.item()\n",
    "        progress_bar.update(1)\n",
    "        \n",
    "        ## Validation\n",
    "        model.eval()\n",
    "        with torch.no_grad():\n",
    "            for (batchX, batchY) in val_dataloader:\n",
    "                batchX = batchX.to(device)\n",
    "                rna = batchX[:, :5540]\n",
    "                scna = batchX[:, 5540:11047]\n",
    "                methy = batchX[:, 11047:]\n",
    "                time = batchY[:,0].reshape(-1, 1).to(device)\n",
    "                event = batchY[:,1].reshape(-1, 1).to(device)\n",
    "                outputs = model(rna, scna, methy, event)\n",
    "                loss = criterion(outputs, time, event)\n",
    "                epoch_val_loss += loss.item()\n",
    "\n",
    "        # Save and print losses\n",
    "        epoch_train_loss /= len(train_dataloader)\n",
    "        epoch_val_loss /= len(val_dataloader)\n",
    "        epoch_train_losses.append(epoch_train_loss)\n",
    "        epoch_val_losses.append(epoch_val_loss)\n",
    "        print(f\"Epoch {epoch + 1} training loss: {epoch_train_loss}\")\n",
    "        print(f\"Epoch {epoch + 1} validation loss: {epoch_val_loss}\")"
   ]
  },
  {
   "cell_type": "code",
   "execution_count": 9,
   "metadata": {},
   "outputs": [
    {
     "name": "stdout",
     "output_type": "stream",
     "text": [
      "times: tensor([[ 706.],\n",
      "        [ 772.],\n",
      "        [ 184.],\n",
      "        [ 455.],\n",
      "        [ 407.],\n",
      "        [ 544.],\n",
      "        [1585.],\n",
      "        [ 411.],\n",
      "        [ 956.],\n",
      "        [1354.],\n",
      "        [ 835.],\n",
      "        [2381.],\n",
      "        [ 648.],\n",
      "        [1257.],\n",
      "        [ 748.],\n",
      "        [6423.],\n",
      "        [1401.],\n",
      "        [ 442.],\n",
      "        [ 993.],\n",
      "        [2107.],\n",
      "        [ 900.],\n",
      "        [  96.],\n",
      "        [ 491.],\n",
      "        [5546.],\n",
      "        [ 629.],\n",
      "        [ 547.],\n",
      "        [ 122.],\n",
      "        [3725.],\n",
      "        [  62.],\n",
      "        [ 605.],\n",
      "        [1220.],\n",
      "        [1262.]])\n",
      "events: tensor([[0.],\n",
      "        [0.],\n",
      "        [0.],\n",
      "        [0.],\n",
      "        [0.],\n",
      "        [0.],\n",
      "        [1.],\n",
      "        [0.],\n",
      "        [0.],\n",
      "        [0.],\n",
      "        [0.],\n",
      "        [0.],\n",
      "        [1.],\n",
      "        [0.],\n",
      "        [0.],\n",
      "        [0.],\n",
      "        [0.],\n",
      "        [0.],\n",
      "        [0.],\n",
      "        [0.],\n",
      "        [0.],\n",
      "        [1.],\n",
      "        [0.],\n",
      "        [0.],\n",
      "        [0.],\n",
      "        [1.],\n",
      "        [0.],\n",
      "        [0.],\n",
      "        [0.],\n",
      "        [1.],\n",
      "        [1.],\n",
      "        [1.]])\n",
      "predictions: tensor([[0.],\n",
      "        [0.],\n",
      "        [0.],\n",
      "        [0.],\n",
      "        [0.],\n",
      "        [0.],\n",
      "        [0.],\n",
      "        [0.],\n",
      "        [0.],\n",
      "        [0.],\n",
      "        [0.],\n",
      "        [0.],\n",
      "        [0.],\n",
      "        [0.],\n",
      "        [0.],\n",
      "        [0.],\n",
      "        [0.],\n",
      "        [0.],\n",
      "        [0.],\n",
      "        [0.],\n",
      "        [0.],\n",
      "        [0.],\n",
      "        [0.],\n",
      "        [0.],\n",
      "        [0.],\n",
      "        [0.],\n",
      "        [0.],\n",
      "        [0.],\n",
      "        [0.],\n",
      "        [0.],\n",
      "        [0.],\n",
      "        [0.]])\n"
     ]
    }
   ],
   "source": [
    "### Sanity Check\n",
    "model.eval()\n",
    "with torch.no_grad():\n",
    "    for (batchX, batchY) in val_dataloader:\n",
    "        batchX = batchX.to(device)\n",
    "        rna = batchX[:, :5540]\n",
    "        scna = batchX[:, 5540:11047]\n",
    "        methy = batchX[:, 11047:]\n",
    "        time = batchY[:,0].reshape(-1, 1).to(device)\n",
    "        event = batchY[:,1].reshape(-1, 1).to(device)\n",
    "        outputs = model(rna, scna, methy, event)\n",
    "        print(f\"times: {time}\")\n",
    "        print(f\"events: {event}\")\n",
    "        print(f\"predictions: {outputs}\")\n",
    "        break"
   ]
  },
  {
   "cell_type": "markdown",
   "metadata": {},
   "source": []
  }
 ],
 "metadata": {
  "kernelspec": {
   "display_name": "csci1470",
   "language": "python",
   "name": "python3"
  },
  "language_info": {
   "codemirror_mode": {
    "name": "ipython",
    "version": 3
   },
   "file_extension": ".py",
   "mimetype": "text/x-python",
   "name": "python",
   "nbconvert_exporter": "python",
   "pygments_lexer": "ipython3",
   "version": "3.11.5"
  }
 },
 "nbformat": 4,
 "nbformat_minor": 2
}
