{
 "cells": [
  {
   "cell_type": "code",
   "execution_count": 1,
   "metadata": {},
   "outputs": [],
   "source": [
    "import pandas as pd\n",
    "from sklearn.model_selection import train_test_split\n",
    "import torch\n",
    "from torch.utils.data import DataLoader, TensorDataset\n",
    "\n",
    "total_data = pd.read_csv('./Data/Multiple/output.csv')\n",
    "train_data = pd.read_csv('./Data/Multiple/train.csv')\n",
    "test_data = pd.read_csv('./Data/Multiple/test.csv')\n",
    "val_data = pd.read_csv('./Data/Multiple/validation.csv')\n",
    "\n",
    "## Training Data\n",
    "rna_train = train_data.columns[:2708]                       # 2708 rna\n",
    "scna_train = train_data.columns[2708:5404]                  # 2696 scna\n",
    "mutation_train = train_data.columns[5404:5591]              # 187 mutation\n",
    "methy_train = train_data.columns[5591:7957]                 # 2366 methy\n",
    "target_train = train_data.columns[-4:]                      # 3 target\n",
    "\n",
    "## Testing Data\n",
    "rna_test = test_data.columns[:2708]                         # 2708 rna\n",
    "scna_test = test_data.columns[2708:5404]                    # 2696 scna\n",
    "mutation_test = test_data.columns[5404:5591]                # 187 mutation\n",
    "methy_test = test_data.columns[5591:7957]                   # 2366 methy\n",
    "target_test = test_data.columns[-4:]                        # 3 target"
   ]
  },
  {
   "cell_type": "code",
   "execution_count": 3,
   "metadata": {},
   "outputs": [
    {
     "name": "stdout",
     "output_type": "stream",
     "text": [
      "475\n",
      "15897\n",
      "380\n",
      "48\n",
      "47\n"
     ]
    }
   ],
   "source": [
    "print(len(total_data))\n",
    "print(len(total_data.columns))\n",
    "print(len(train_data))\n",
    "print(len(test_data))\n",
    "print(len(val_data))"
   ]
  },
  {
   "cell_type": "code",
   "execution_count": 10,
   "metadata": {},
   "outputs": [
    {
     "name": "stdout",
     "output_type": "stream",
     "text": [
      "PDXK_rna\n"
     ]
    }
   ],
   "source": []
  }
 ],
 "metadata": {
  "kernelspec": {
   "display_name": "dl",
   "language": "python",
   "name": "python3"
  },
  "language_info": {
   "codemirror_mode": {
    "name": "ipython",
    "version": 3
   },
   "file_extension": ".py",
   "mimetype": "text/x-python",
   "name": "python",
   "nbconvert_exporter": "python",
   "pygments_lexer": "ipython3",
   "version": "3.11.5"
  }
 },
 "nbformat": 4,
 "nbformat_minor": 2
}
