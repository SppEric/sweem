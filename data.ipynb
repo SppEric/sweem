{
 "cells": [
  {
   "cell_type": "code",
   "execution_count": 3,
   "metadata": {},
   "outputs": [
    {
     "name": "stdout",
     "output_type": "stream",
     "text": [
      "(48, 7961)\n",
      "(380, 7961)\n"
     ]
    }
   ],
   "source": [
    "import pandas as pd\n",
    "\n",
    "test_data = pd.read_csv('./Data/Multiple/test.csv')\n",
    "print(test_data.shape)\n",
    "\n",
    "train_data = pd.read_csv('./Data/Multiple/train.csv')\n",
    "print(train_data.shape)\n",
    "\n",
    "rna_test = test_data.columns[:2708]\n",
    "scna_test = test_data.columns[2708:2708+2696]\n",
    "mutation_test = test_data.columns[2708+2696:2708+2696+187]\n",
    "methy_test = test_data.columns[2708+2696+187:-3]\n",
    "target_test = test_data.columns[-3:]"
   ]
  }
 ],
 "metadata": {
  "kernelspec": {
   "display_name": "dl",
   "language": "python",
   "name": "python3"
  },
  "language_info": {
   "codemirror_mode": {
    "name": "ipython",
    "version": 3
   },
   "file_extension": ".py",
   "mimetype": "text/x-python",
   "name": "python",
   "nbconvert_exporter": "python",
   "pygments_lexer": "ipython3",
   "version": "3.11.5"
  }
 },
 "nbformat": 4,
 "nbformat_minor": 2
}
